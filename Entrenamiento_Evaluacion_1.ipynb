{
 "cells": [
  {
   "cell_type": "code",
   "execution_count": 1,
   "metadata": {},
   "outputs": [],
   "source": [
    "import pandas as pd"
   ]
  },
  {
   "cell_type": "code",
   "execution_count": 2,
   "metadata": {},
   "outputs": [],
   "source": [
    "df = pd.read_csv('data/semiprocessed_data.csv')"
   ]
  },
  {
   "cell_type": "code",
   "execution_count": 8,
   "metadata": {},
   "outputs": [],
   "source": [
    "from sklearn.linear_model import LinearRegression\n",
    "from sklearn.model_selection import train_test_split\n",
    "from sklearn.metrics import mean_squared_error, r2_score, mean_absolute_error\n",
    "from sklearn.tree import DecisionTreeRegressor\n",
    "\n",
    "X = df.drop('Price', axis=1)\n",
    "y = df['Price']\n",
    "\n",
    "\n",
    "X_train, X_test, y_train, y_test = train_test_split(X, y, test_size=0.2, random_state=42)"
   ]
  },
  {
   "cell_type": "code",
   "execution_count": 9,
   "metadata": {},
   "outputs": [
    {
     "name": "stdout",
     "output_type": "stream",
     "text": [
      "MSE: 145983497.76789597\n",
      "MAE: 7661.274870299753\n",
      "R2: 0.20599193912569602\n"
     ]
    }
   ],
   "source": [
    "lr_model = LinearRegression()\n",
    "lr_model.fit(X_train, y_train)\n",
    "\n",
    "\n",
    "y_pred_lr = lr_model.predict(X_test)\n",
    "\n",
    "\n",
    "mse_lr = mean_squared_error(y_test, y_pred_lr)\n",
    "mae_lr = mean_absolute_error(y_test, y_pred_lr)\n",
    "r2_lr = r2_score(y_test, y_pred_lr)\n",
    "\n",
    "print(\"MSE:\", mse_lr)\n",
    "print(\"MAE:\", mae_lr)\n",
    "print(\"R2:\",r2_lr)"
   ]
  },
  {
   "cell_type": "code",
   "execution_count": 10,
   "metadata": {},
   "outputs": [
    {
     "name": "stdout",
     "output_type": "stream",
     "text": [
      "MSE: 34658418.9380901\n",
      "MAE: 3043.860891107971\n",
      "R2 Score: 0.8114919533045053\n"
     ]
    }
   ],
   "source": [
    "tm_model = DecisionTreeRegressor(random_state=42)\n",
    "tm_model.fit(X_train, y_train)\n",
    "\n",
    "y_pred_tm = tm_model.predict(X_test)\n",
    "\n",
    "mse_tm = mean_squared_error(y_test, y_pred_tm)\n",
    "mae_tm = mean_absolute_error(y_test, y_pred_tm)\n",
    "r2_tm = r2_score(y_test, y_pred_tm)\n",
    "\n",
    "print(\"MSE:\", mse_tm)\n",
    "print(\"MAE:\", mae_tm)\n",
    "print(\"R2 Score:\", r2_tm)"
   ]
  },
  {
   "cell_type": "code",
   "execution_count": null,
   "metadata": {},
   "outputs": [],
   "source": []
  }
 ],
 "metadata": {
  "kernelspec": {
   "display_name": "Python 3",
   "language": "python",
   "name": "python3"
  },
  "language_info": {
   "codemirror_mode": {
    "name": "ipython",
    "version": 3
   },
   "file_extension": ".py",
   "mimetype": "text/x-python",
   "name": "python",
   "nbconvert_exporter": "python",
   "pygments_lexer": "ipython3",
   "version": "3.13.0"
  }
 },
 "nbformat": 4,
 "nbformat_minor": 2
}
