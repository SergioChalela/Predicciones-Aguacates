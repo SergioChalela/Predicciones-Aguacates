{
 "cells": [
  {
   "cell_type": "code",
   "execution_count": 2,
   "metadata": {},
   "outputs": [],
   "source": [
    "import tensorflow as tf\n",
    "from tensorflow.keras.models import Sequential\n",
    "from tensorflow.keras.layers import Dense\n"
   ]
  },
  {
   "cell_type": "code",
   "execution_count": 1,
   "metadata": {},
   "outputs": [],
   "source": [
    "import pandas as pd\n",
    "from sklearn.model_selection import train_test_split\n",
    "\n",
    "# Cargar el dataset procesado\n",
    "df = pd.read_csv('../data/semiprocessed_data.csv')\n",
    "\n",
    "# Separar variables predictoras y objetivo\n",
    "X = df.drop(\"Price\", axis=1)\n",
    "y = df[\"Price\"]\n",
    "\n",
    "# Dividir los datos en conjuntos de entrenamiento y prueba\n",
    "X_train, X_test, y_train, y_test = train_test_split(X, y, test_size=0.2, random_state=42)\n"
   ]
  },
  {
   "cell_type": "markdown",
   "metadata": {},
   "source": [
    "Vamos a empezar con el modelo de Redes Neuronales y resumirlo"
   ]
  },
  {
   "cell_type": "code",
   "execution_count": 3,
   "metadata": {},
   "outputs": [
    {
     "name": "stderr",
     "output_type": "stream",
     "text": [
      "/opt/anaconda3/lib/python3.12/site-packages/keras/src/layers/core/dense.py:87: UserWarning: Do not pass an `input_shape`/`input_dim` argument to a layer. When using Sequential models, prefer using an `Input(shape)` object as the first layer in the model instead.\n",
      "  super().__init__(activity_regularizer=activity_regularizer, **kwargs)\n"
     ]
    },
    {
     "data": {
      "text/html": [
       "<pre style=\"white-space:pre;overflow-x:auto;line-height:normal;font-family:Menlo,'DejaVu Sans Mono',consolas,'Courier New',monospace\"><span style=\"font-weight: bold\">Model: \"sequential\"</span>\n",
       "</pre>\n"
      ],
      "text/plain": [
       "\u001b[1mModel: \"sequential\"\u001b[0m\n"
      ]
     },
     "metadata": {},
     "output_type": "display_data"
    },
    {
     "data": {
      "text/html": [
       "<pre style=\"white-space:pre;overflow-x:auto;line-height:normal;font-family:Menlo,'DejaVu Sans Mono',consolas,'Courier New',monospace\">┏━━━━━━━━━━━━━━━━━━━━━━━━━━━━━━━━━┳━━━━━━━━━━━━━━━━━━━━━━━━┳━━━━━━━━━━━━━━━┓\n",
       "┃<span style=\"font-weight: bold\"> Layer (type)                    </span>┃<span style=\"font-weight: bold\"> Output Shape           </span>┃<span style=\"font-weight: bold\">       Param # </span>┃\n",
       "┡━━━━━━━━━━━━━━━━━━━━━━━━━━━━━━━━━╇━━━━━━━━━━━━━━━━━━━━━━━━╇━━━━━━━━━━━━━━━┩\n",
       "│ dense (<span style=\"color: #0087ff; text-decoration-color: #0087ff\">Dense</span>)                   │ (<span style=\"color: #00d7ff; text-decoration-color: #00d7ff\">None</span>, <span style=\"color: #00af00; text-decoration-color: #00af00\">64</span>)             │           <span style=\"color: #00af00; text-decoration-color: #00af00\">320</span> │\n",
       "├─────────────────────────────────┼────────────────────────┼───────────────┤\n",
       "│ dense_1 (<span style=\"color: #0087ff; text-decoration-color: #0087ff\">Dense</span>)                 │ (<span style=\"color: #00d7ff; text-decoration-color: #00d7ff\">None</span>, <span style=\"color: #00af00; text-decoration-color: #00af00\">32</span>)             │         <span style=\"color: #00af00; text-decoration-color: #00af00\">2,080</span> │\n",
       "├─────────────────────────────────┼────────────────────────┼───────────────┤\n",
       "│ dense_2 (<span style=\"color: #0087ff; text-decoration-color: #0087ff\">Dense</span>)                 │ (<span style=\"color: #00d7ff; text-decoration-color: #00d7ff\">None</span>, <span style=\"color: #00af00; text-decoration-color: #00af00\">1</span>)              │            <span style=\"color: #00af00; text-decoration-color: #00af00\">33</span> │\n",
       "└─────────────────────────────────┴────────────────────────┴───────────────┘\n",
       "</pre>\n"
      ],
      "text/plain": [
       "┏━━━━━━━━━━━━━━━━━━━━━━━━━━━━━━━━━┳━━━━━━━━━━━━━━━━━━━━━━━━┳━━━━━━━━━━━━━━━┓\n",
       "┃\u001b[1m \u001b[0m\u001b[1mLayer (type)                   \u001b[0m\u001b[1m \u001b[0m┃\u001b[1m \u001b[0m\u001b[1mOutput Shape          \u001b[0m\u001b[1m \u001b[0m┃\u001b[1m \u001b[0m\u001b[1m      Param #\u001b[0m\u001b[1m \u001b[0m┃\n",
       "┡━━━━━━━━━━━━━━━━━━━━━━━━━━━━━━━━━╇━━━━━━━━━━━━━━━━━━━━━━━━╇━━━━━━━━━━━━━━━┩\n",
       "│ dense (\u001b[38;5;33mDense\u001b[0m)                   │ (\u001b[38;5;45mNone\u001b[0m, \u001b[38;5;34m64\u001b[0m)             │           \u001b[38;5;34m320\u001b[0m │\n",
       "├─────────────────────────────────┼────────────────────────┼───────────────┤\n",
       "│ dense_1 (\u001b[38;5;33mDense\u001b[0m)                 │ (\u001b[38;5;45mNone\u001b[0m, \u001b[38;5;34m32\u001b[0m)             │         \u001b[38;5;34m2,080\u001b[0m │\n",
       "├─────────────────────────────────┼────────────────────────┼───────────────┤\n",
       "│ dense_2 (\u001b[38;5;33mDense\u001b[0m)                 │ (\u001b[38;5;45mNone\u001b[0m, \u001b[38;5;34m1\u001b[0m)              │            \u001b[38;5;34m33\u001b[0m │\n",
       "└─────────────────────────────────┴────────────────────────┴───────────────┘\n"
      ]
     },
     "metadata": {},
     "output_type": "display_data"
    },
    {
     "data": {
      "text/html": [
       "<pre style=\"white-space:pre;overflow-x:auto;line-height:normal;font-family:Menlo,'DejaVu Sans Mono',consolas,'Courier New',monospace\"><span style=\"font-weight: bold\"> Total params: </span><span style=\"color: #00af00; text-decoration-color: #00af00\">2,433</span> (9.50 KB)\n",
       "</pre>\n"
      ],
      "text/plain": [
       "\u001b[1m Total params: \u001b[0m\u001b[38;5;34m2,433\u001b[0m (9.50 KB)\n"
      ]
     },
     "metadata": {},
     "output_type": "display_data"
    },
    {
     "data": {
      "text/html": [
       "<pre style=\"white-space:pre;overflow-x:auto;line-height:normal;font-family:Menlo,'DejaVu Sans Mono',consolas,'Courier New',monospace\"><span style=\"font-weight: bold\"> Trainable params: </span><span style=\"color: #00af00; text-decoration-color: #00af00\">2,433</span> (9.50 KB)\n",
       "</pre>\n"
      ],
      "text/plain": [
       "\u001b[1m Trainable params: \u001b[0m\u001b[38;5;34m2,433\u001b[0m (9.50 KB)\n"
      ]
     },
     "metadata": {},
     "output_type": "display_data"
    },
    {
     "data": {
      "text/html": [
       "<pre style=\"white-space:pre;overflow-x:auto;line-height:normal;font-family:Menlo,'DejaVu Sans Mono',consolas,'Courier New',monospace\"><span style=\"font-weight: bold\"> Non-trainable params: </span><span style=\"color: #00af00; text-decoration-color: #00af00\">0</span> (0.00 B)\n",
       "</pre>\n"
      ],
      "text/plain": [
       "\u001b[1m Non-trainable params: \u001b[0m\u001b[38;5;34m0\u001b[0m (0.00 B)\n"
      ]
     },
     "metadata": {},
     "output_type": "display_data"
    }
   ],
   "source": [
    "# Definir el modelo\n",
    "model = Sequential([\n",
    "    Dense(64, activation='relu', input_shape=(X_train.shape[1],)),  # Primera capa oculta con 64 neuronas\n",
    "    Dense(32, activation='relu'),                                  # Segunda capa oculta con 32 neuronas\n",
    "    Dense(1)                                                      # Capa de salida para regresión\n",
    "])\n",
    "\n",
    "# Resumen del modelo\n",
    "model.summary()\n"
   ]
  },
  {
   "cell_type": "markdown",
   "metadata": {},
   "source": [
    "Ahora vamos a compilar el modelo y luego entrenarlo. "
   ]
  },
  {
   "cell_type": "code",
   "execution_count": 4,
   "metadata": {},
   "outputs": [
    {
     "name": "stdout",
     "output_type": "stream",
     "text": [
      "Modelo compilado correctamente.\n"
     ]
    }
   ],
   "source": [
    "model.compile(\n",
    "    optimizer='adam',            \n",
    "    loss='mean_squared_error',      \n",
    "    metrics=['mean_absolute_error'] \n",
    ")\n",
    "\n",
    "print(\"Modelo compilado correctamente.\")\n"
   ]
  },
  {
   "cell_type": "code",
   "execution_count": 5,
   "metadata": {},
   "outputs": [
    {
     "name": "stdout",
     "output_type": "stream",
     "text": [
      "Epoch 1/50\n",
      "\u001b[1m17043/17043\u001b[0m \u001b[32m━━━━━━━━━━━━━━━━━━━━\u001b[0m\u001b[37m\u001b[0m \u001b[1m5s\u001b[0m 273us/step - loss: 197263104.0000 - mean_absolute_error: 9369.1133 - val_loss: 187589040.0000 - val_mean_absolute_error: 8883.8125\n",
      "Epoch 2/50\n",
      "\u001b[1m17043/17043\u001b[0m \u001b[32m━━━━━━━━━━━━━━━━━━━━\u001b[0m\u001b[37m\u001b[0m \u001b[1m5s\u001b[0m 266us/step - loss: 176646800.0000 - mean_absolute_error: 8770.7578 - val_loss: 186514176.0000 - val_mean_absolute_error: 8764.0254\n",
      "Epoch 3/50\n",
      "\u001b[1m17043/17043\u001b[0m \u001b[32m━━━━━━━━━━━━━━━━━━━━\u001b[0m\u001b[37m\u001b[0m \u001b[1m4s\u001b[0m 263us/step - loss: 174422368.0000 - mean_absolute_error: 8738.5635 - val_loss: 186156224.0000 - val_mean_absolute_error: 8845.0723\n",
      "Epoch 4/50\n",
      "\u001b[1m17043/17043\u001b[0m \u001b[32m━━━━━━━━━━━━━━━━━━━━\u001b[0m\u001b[37m\u001b[0m \u001b[1m4s\u001b[0m 262us/step - loss: 173199968.0000 - mean_absolute_error: 8704.6436 - val_loss: 185386016.0000 - val_mean_absolute_error: 8606.3701\n",
      "Epoch 5/50\n",
      "\u001b[1m17043/17043\u001b[0m \u001b[32m━━━━━━━━━━━━━━━━━━━━\u001b[0m\u001b[37m\u001b[0m \u001b[1m4s\u001b[0m 262us/step - loss: 173905408.0000 - mean_absolute_error: 8681.9902 - val_loss: 184774848.0000 - val_mean_absolute_error: 8588.5332\n",
      "Epoch 6/50\n",
      "\u001b[1m17043/17043\u001b[0m \u001b[32m━━━━━━━━━━━━━━━━━━━━\u001b[0m\u001b[37m\u001b[0m \u001b[1m5s\u001b[0m 264us/step - loss: 174181296.0000 - mean_absolute_error: 8679.5830 - val_loss: 183734192.0000 - val_mean_absolute_error: 8650.2803\n",
      "Epoch 7/50\n",
      "\u001b[1m17043/17043\u001b[0m \u001b[32m━━━━━━━━━━━━━━━━━━━━\u001b[0m\u001b[37m\u001b[0m \u001b[1m5s\u001b[0m 263us/step - loss: 173700288.0000 - mean_absolute_error: 8636.0752 - val_loss: 183472656.0000 - val_mean_absolute_error: 8943.6533\n",
      "Epoch 8/50\n",
      "\u001b[1m17043/17043\u001b[0m \u001b[32m━━━━━━━━━━━━━━━━━━━━\u001b[0m\u001b[37m\u001b[0m \u001b[1m5s\u001b[0m 265us/step - loss: 168703392.0000 - mean_absolute_error: 8550.1982 - val_loss: 175383504.0000 - val_mean_absolute_error: 8314.6904\n",
      "Epoch 9/50\n",
      "\u001b[1m17043/17043\u001b[0m \u001b[32m━━━━━━━━━━━━━━━━━━━━\u001b[0m\u001b[37m\u001b[0m \u001b[1m4s\u001b[0m 262us/step - loss: 164417072.0000 - mean_absolute_error: 8272.7256 - val_loss: 163415648.0000 - val_mean_absolute_error: 7685.5161\n",
      "Epoch 10/50\n",
      "\u001b[1m17043/17043\u001b[0m \u001b[32m━━━━━━━━━━━━━━━━━━━━\u001b[0m\u001b[37m\u001b[0m \u001b[1m5s\u001b[0m 264us/step - loss: 152716224.0000 - mean_absolute_error: 7776.8687 - val_loss: 159234848.0000 - val_mean_absolute_error: 7017.3447\n",
      "Epoch 11/50\n",
      "\u001b[1m17043/17043\u001b[0m \u001b[32m━━━━━━━━━━━━━━━━━━━━\u001b[0m\u001b[37m\u001b[0m \u001b[1m5s\u001b[0m 271us/step - loss: 140584352.0000 - mean_absolute_error: 7316.3159 - val_loss: 156219472.0000 - val_mean_absolute_error: 8420.3809\n",
      "Epoch 12/50\n",
      "\u001b[1m17043/17043\u001b[0m \u001b[32m━━━━━━━━━━━━━━━━━━━━\u001b[0m\u001b[37m\u001b[0m \u001b[1m5s\u001b[0m 265us/step - loss: 138218864.0000 - mean_absolute_error: 7175.8350 - val_loss: 147441680.0000 - val_mean_absolute_error: 7796.9326\n",
      "Epoch 13/50\n",
      "\u001b[1m17043/17043\u001b[0m \u001b[32m━━━━━━━━━━━━━━━━━━━━\u001b[0m\u001b[37m\u001b[0m \u001b[1m5s\u001b[0m 265us/step - loss: 132821424.0000 - mean_absolute_error: 7098.6016 - val_loss: 155822368.0000 - val_mean_absolute_error: 6853.4854\n",
      "Epoch 14/50\n",
      "\u001b[1m17043/17043\u001b[0m \u001b[32m━━━━━━━━━━━━━━━━━━━━\u001b[0m\u001b[37m\u001b[0m \u001b[1m5s\u001b[0m 266us/step - loss: 133490944.0000 - mean_absolute_error: 7039.4785 - val_loss: 137455776.0000 - val_mean_absolute_error: 6697.2173\n",
      "Epoch 15/50\n",
      "\u001b[1m17043/17043\u001b[0m \u001b[32m━━━━━━━━━━━━━━━━━━━━\u001b[0m\u001b[37m\u001b[0m \u001b[1m5s\u001b[0m 307us/step - loss: 133458568.0000 - mean_absolute_error: 6989.9033 - val_loss: 143626608.0000 - val_mean_absolute_error: 7359.5737\n",
      "Epoch 16/50\n",
      "\u001b[1m17043/17043\u001b[0m \u001b[32m━━━━━━━━━━━━━━━━━━━━\u001b[0m\u001b[37m\u001b[0m \u001b[1m5s\u001b[0m 266us/step - loss: 131196784.0000 - mean_absolute_error: 6942.0630 - val_loss: 139898320.0000 - val_mean_absolute_error: 6694.1484\n",
      "Epoch 17/50\n",
      "\u001b[1m17043/17043\u001b[0m \u001b[32m━━━━━━━━━━━━━━━━━━━━\u001b[0m\u001b[37m\u001b[0m \u001b[1m6s\u001b[0m 328us/step - loss: 134000488.0000 - mean_absolute_error: 6909.5493 - val_loss: 147129536.0000 - val_mean_absolute_error: 6584.4253\n",
      "Epoch 18/50\n",
      "\u001b[1m17043/17043\u001b[0m \u001b[32m━━━━━━━━━━━━━━━━━━━━\u001b[0m\u001b[37m\u001b[0m \u001b[1m5s\u001b[0m 272us/step - loss: 133624584.0000 - mean_absolute_error: 6919.3389 - val_loss: 140581696.0000 - val_mean_absolute_error: 7414.7603\n",
      "Epoch 19/50\n",
      "\u001b[1m17043/17043\u001b[0m \u001b[32m━━━━━━━━━━━━━━━━━━━━\u001b[0m\u001b[37m\u001b[0m \u001b[1m5s\u001b[0m 268us/step - loss: 126351856.0000 - mean_absolute_error: 6828.4922 - val_loss: 133758472.0000 - val_mean_absolute_error: 6517.1641\n",
      "Epoch 20/50\n",
      "\u001b[1m17043/17043\u001b[0m \u001b[32m━━━━━━━━━━━━━━━━━━━━\u001b[0m\u001b[37m\u001b[0m \u001b[1m5s\u001b[0m 265us/step - loss: 126578384.0000 - mean_absolute_error: 6780.1016 - val_loss: 137910992.0000 - val_mean_absolute_error: 7337.3716\n",
      "Epoch 21/50\n",
      "\u001b[1m17043/17043\u001b[0m \u001b[32m━━━━━━━━━━━━━━━━━━━━\u001b[0m\u001b[37m\u001b[0m \u001b[1m4s\u001b[0m 263us/step - loss: 123764912.0000 - mean_absolute_error: 6719.9824 - val_loss: 133147400.0000 - val_mean_absolute_error: 6263.3457\n",
      "Epoch 22/50\n",
      "\u001b[1m17043/17043\u001b[0m \u001b[32m━━━━━━━━━━━━━━━━━━━━\u001b[0m\u001b[37m\u001b[0m \u001b[1m5s\u001b[0m 265us/step - loss: 127850024.0000 - mean_absolute_error: 6734.5024 - val_loss: 132401384.0000 - val_mean_absolute_error: 6328.0415\n",
      "Epoch 23/50\n",
      "\u001b[1m17043/17043\u001b[0m \u001b[32m━━━━━━━━━━━━━━━━━━━━\u001b[0m\u001b[37m\u001b[0m \u001b[1m5s\u001b[0m 264us/step - loss: 123716224.0000 - mean_absolute_error: 6647.5786 - val_loss: 128200704.0000 - val_mean_absolute_error: 6217.8433\n",
      "Epoch 24/50\n",
      "\u001b[1m17043/17043\u001b[0m \u001b[32m━━━━━━━━━━━━━━━━━━━━\u001b[0m\u001b[37m\u001b[0m \u001b[1m5s\u001b[0m 265us/step - loss: 122916424.0000 - mean_absolute_error: 6577.4790 - val_loss: 137345664.0000 - val_mean_absolute_error: 7319.0850\n",
      "Epoch 25/50\n",
      "\u001b[1m17043/17043\u001b[0m \u001b[32m━━━━━━━━━━━━━━━━━━━━\u001b[0m\u001b[37m\u001b[0m \u001b[1m5s\u001b[0m 263us/step - loss: 119703144.0000 - mean_absolute_error: 6530.9502 - val_loss: 129439504.0000 - val_mean_absolute_error: 6828.7402\n",
      "Epoch 26/50\n",
      "\u001b[1m17043/17043\u001b[0m \u001b[32m━━━━━━━━━━━━━━━━━━━━\u001b[0m\u001b[37m\u001b[0m \u001b[1m4s\u001b[0m 263us/step - loss: 119657840.0000 - mean_absolute_error: 6471.9712 - val_loss: 127879592.0000 - val_mean_absolute_error: 6130.7773\n",
      "Epoch 27/50\n",
      "\u001b[1m17043/17043\u001b[0m \u001b[32m━━━━━━━━━━━━━━━━━━━━\u001b[0m\u001b[37m\u001b[0m \u001b[1m5s\u001b[0m 263us/step - loss: 122565280.0000 - mean_absolute_error: 6468.2207 - val_loss: 128045784.0000 - val_mean_absolute_error: 6224.0625\n",
      "Epoch 28/50\n",
      "\u001b[1m17043/17043\u001b[0m \u001b[32m━━━━━━━━━━━━━━━━━━━━\u001b[0m\u001b[37m\u001b[0m \u001b[1m5s\u001b[0m 264us/step - loss: 117858896.0000 - mean_absolute_error: 6459.9263 - val_loss: 128635920.0000 - val_mean_absolute_error: 6230.9067\n",
      "Epoch 29/50\n",
      "\u001b[1m17043/17043\u001b[0m \u001b[32m━━━━━━━━━━━━━━━━━━━━\u001b[0m\u001b[37m\u001b[0m \u001b[1m5s\u001b[0m 265us/step - loss: 117863120.0000 - mean_absolute_error: 6443.3076 - val_loss: 124107288.0000 - val_mean_absolute_error: 6014.2412\n",
      "Epoch 30/50\n",
      "\u001b[1m17043/17043\u001b[0m \u001b[32m━━━━━━━━━━━━━━━━━━━━\u001b[0m\u001b[37m\u001b[0m \u001b[1m5s\u001b[0m 275us/step - loss: 119804080.0000 - mean_absolute_error: 6410.8853 - val_loss: 162716048.0000 - val_mean_absolute_error: 7431.9731\n",
      "Epoch 31/50\n",
      "\u001b[1m17043/17043\u001b[0m \u001b[32m━━━━━━━━━━━━━━━━━━━━\u001b[0m\u001b[37m\u001b[0m \u001b[1m5s\u001b[0m 270us/step - loss: 117246160.0000 - mean_absolute_error: 6397.9062 - val_loss: 125989512.0000 - val_mean_absolute_error: 6182.3979\n",
      "Epoch 32/50\n",
      "\u001b[1m17043/17043\u001b[0m \u001b[32m━━━━━━━━━━━━━━━━━━━━\u001b[0m\u001b[37m\u001b[0m \u001b[1m5s\u001b[0m 266us/step - loss: 122601424.0000 - mean_absolute_error: 6478.3179 - val_loss: 123776616.0000 - val_mean_absolute_error: 6239.3550\n",
      "Epoch 33/50\n",
      "\u001b[1m17043/17043\u001b[0m \u001b[32m━━━━━━━━━━━━━━━━━━━━\u001b[0m\u001b[37m\u001b[0m \u001b[1m5s\u001b[0m 265us/step - loss: 121575528.0000 - mean_absolute_error: 6422.7886 - val_loss: 123163792.0000 - val_mean_absolute_error: 6136.6025\n",
      "Epoch 34/50\n",
      "\u001b[1m17043/17043\u001b[0m \u001b[32m━━━━━━━━━━━━━━━━━━━━\u001b[0m\u001b[37m\u001b[0m \u001b[1m5s\u001b[0m 263us/step - loss: 118969032.0000 - mean_absolute_error: 6372.5205 - val_loss: 124774560.0000 - val_mean_absolute_error: 6023.0923\n",
      "Epoch 35/50\n",
      "\u001b[1m17043/17043\u001b[0m \u001b[32m━━━━━━━━━━━━━━━━━━━━\u001b[0m\u001b[37m\u001b[0m \u001b[1m4s\u001b[0m 263us/step - loss: 115358672.0000 - mean_absolute_error: 6340.5488 - val_loss: 125322736.0000 - val_mean_absolute_error: 6523.1558\n",
      "Epoch 36/50\n",
      "\u001b[1m17043/17043\u001b[0m \u001b[32m━━━━━━━━━━━━━━━━━━━━\u001b[0m\u001b[37m\u001b[0m \u001b[1m5s\u001b[0m 267us/step - loss: 123974152.0000 - mean_absolute_error: 6390.4927 - val_loss: 125279776.0000 - val_mean_absolute_error: 6433.7334\n",
      "Epoch 37/50\n",
      "\u001b[1m17043/17043\u001b[0m \u001b[32m━━━━━━━━━━━━━━━━━━━━\u001b[0m\u001b[37m\u001b[0m \u001b[1m5s\u001b[0m 264us/step - loss: 114620200.0000 - mean_absolute_error: 6345.5063 - val_loss: 128714144.0000 - val_mean_absolute_error: 6869.6172\n",
      "Epoch 38/50\n",
      "\u001b[1m17043/17043\u001b[0m \u001b[32m━━━━━━━━━━━━━━━━━━━━\u001b[0m\u001b[37m\u001b[0m \u001b[1m5s\u001b[0m 264us/step - loss: 118430008.0000 - mean_absolute_error: 6326.1938 - val_loss: 121727736.0000 - val_mean_absolute_error: 6208.6748\n",
      "Epoch 39/50\n",
      "\u001b[1m17043/17043\u001b[0m \u001b[32m━━━━━━━━━━━━━━━━━━━━\u001b[0m\u001b[37m\u001b[0m \u001b[1m5s\u001b[0m 267us/step - loss: 119197872.0000 - mean_absolute_error: 6307.9482 - val_loss: 120092048.0000 - val_mean_absolute_error: 6032.9258\n",
      "Epoch 40/50\n",
      "\u001b[1m17043/17043\u001b[0m \u001b[32m━━━━━━━━━━━━━━━━━━━━\u001b[0m\u001b[37m\u001b[0m \u001b[1m5s\u001b[0m 267us/step - loss: 118665904.0000 - mean_absolute_error: 6317.4180 - val_loss: 121023920.0000 - val_mean_absolute_error: 6310.5981\n",
      "Epoch 41/50\n",
      "\u001b[1m17043/17043\u001b[0m \u001b[32m━━━━━━━━━━━━━━━━━━━━\u001b[0m\u001b[37m\u001b[0m \u001b[1m5s\u001b[0m 272us/step - loss: 111555848.0000 - mean_absolute_error: 6226.7959 - val_loss: 121002152.0000 - val_mean_absolute_error: 6064.4824\n",
      "Epoch 42/50\n",
      "\u001b[1m17043/17043\u001b[0m \u001b[32m━━━━━━━━━━━━━━━━━━━━\u001b[0m\u001b[37m\u001b[0m \u001b[1m5s\u001b[0m 272us/step - loss: 108910168.0000 - mean_absolute_error: 6197.1055 - val_loss: 118989768.0000 - val_mean_absolute_error: 5896.0244\n",
      "Epoch 43/50\n",
      "\u001b[1m17043/17043\u001b[0m \u001b[32m━━━━━━━━━━━━━━━━━━━━\u001b[0m\u001b[37m\u001b[0m \u001b[1m5s\u001b[0m 272us/step - loss: 117336992.0000 - mean_absolute_error: 6240.6812 - val_loss: 118772488.0000 - val_mean_absolute_error: 6007.1372\n",
      "Epoch 44/50\n",
      "\u001b[1m17043/17043\u001b[0m \u001b[32m━━━━━━━━━━━━━━━━━━━━\u001b[0m\u001b[37m\u001b[0m \u001b[1m5s\u001b[0m 270us/step - loss: 112359920.0000 - mean_absolute_error: 6206.9111 - val_loss: 120396176.0000 - val_mean_absolute_error: 6069.3916\n",
      "Epoch 45/50\n",
      "\u001b[1m17043/17043\u001b[0m \u001b[32m━━━━━━━━━━━━━━━━━━━━\u001b[0m\u001b[37m\u001b[0m \u001b[1m5s\u001b[0m 268us/step - loss: 115269184.0000 - mean_absolute_error: 6244.0552 - val_loss: 126870776.0000 - val_mean_absolute_error: 6401.4268\n",
      "Epoch 46/50\n",
      "\u001b[1m17043/17043\u001b[0m \u001b[32m━━━━━━━━━━━━━━━━━━━━\u001b[0m\u001b[37m\u001b[0m \u001b[1m5s\u001b[0m 268us/step - loss: 112023328.0000 - mean_absolute_error: 6210.3237 - val_loss: 118341904.0000 - val_mean_absolute_error: 6048.8643\n",
      "Epoch 47/50\n",
      "\u001b[1m17043/17043\u001b[0m \u001b[32m━━━━━━━━━━━━━━━━━━━━\u001b[0m\u001b[37m\u001b[0m \u001b[1m5s\u001b[0m 269us/step - loss: 112468056.0000 - mean_absolute_error: 6176.3105 - val_loss: 118776552.0000 - val_mean_absolute_error: 5846.6401\n",
      "Epoch 48/50\n",
      "\u001b[1m17043/17043\u001b[0m \u001b[32m━━━━━━━━━━━━━━━━━━━━\u001b[0m\u001b[37m\u001b[0m \u001b[1m5s\u001b[0m 270us/step - loss: 115425400.0000 - mean_absolute_error: 6221.1587 - val_loss: 116910840.0000 - val_mean_absolute_error: 5899.3633\n",
      "Epoch 49/50\n",
      "\u001b[1m17043/17043\u001b[0m \u001b[32m━━━━━━━━━━━━━━━━━━━━\u001b[0m\u001b[37m\u001b[0m \u001b[1m5s\u001b[0m 269us/step - loss: 114468256.0000 - mean_absolute_error: 6173.6465 - val_loss: 117928792.0000 - val_mean_absolute_error: 5820.8857\n",
      "Epoch 50/50\n",
      "\u001b[1m17043/17043\u001b[0m \u001b[32m━━━━━━━━━━━━━━━━━━━━\u001b[0m\u001b[37m\u001b[0m \u001b[1m5s\u001b[0m 271us/step - loss: 114185872.0000 - mean_absolute_error: 6172.1621 - val_loss: 117384200.0000 - val_mean_absolute_error: 6049.9438\n",
      "Entrenamiento completado.\n"
     ]
    }
   ],
   "source": [
    "# Entrenar el modelo\n",
    "history = model.fit(\n",
    "    X_train,          # Datos de entrenamiento\n",
    "    y_train,          # Etiquetas de entrenamiento\n",
    "    validation_split=0.2,  # Usar el 20% de los datos de entrenamiento para validación\n",
    "    epochs=50,        # Número de épocas\n",
    "    batch_size=32,    # Tamaño del batch\n",
    "    verbose=1         # Modo de salida (1 para ver detalles del progreso)\n",
    ")\n",
    "\n",
    "print(\"Entrenamiento completado.\")\n"
   ]
  },
  {
   "cell_type": "code",
   "execution_count": 6,
   "metadata": {},
   "outputs": [
    {
     "name": "stdout",
     "output_type": "stream",
     "text": [
      "Pérdida (MSE) en el conjunto de prueba: [108402944.0, 6009.14501953125]\n",
      "\u001b[1m5326/5326\u001b[0m \u001b[32m━━━━━━━━━━━━━━━━━━━━\u001b[0m\u001b[37m\u001b[0m \u001b[1m1s\u001b[0m 179us/step\n",
      "MAE del modelo de Red Neuronal: 6009.14576541289\n",
      "R² del modelo de Red Neuronal: 0.41039339273693454\n"
     ]
    }
   ],
   "source": [
    "# Evaluar el modelo en el conjunto de prueba\n",
    "test_loss = model.evaluate(X_test, y_test, verbose=0)\n",
    "print(f\"Pérdida (MSE) en el conjunto de prueba: {test_loss}\")\n",
    "\n",
    "# Realizar predicciones\n",
    "y_pred_nn = model.predict(X_test)\n",
    "\n",
    "# Calcular métricas adicionales\n",
    "from sklearn.metrics import mean_absolute_error, r2_score\n",
    "\n",
    "mae_nn = mean_absolute_error(y_test, y_pred_nn)\n",
    "r2_nn = r2_score(y_test, y_pred_nn)\n",
    "\n",
    "print(f\"MAE del modelo de Red Neuronal: {mae_nn}\")\n",
    "print(f\"R² del modelo de Red Neuronal: {r2_nn}\")\n"
   ]
  },
  {
   "cell_type": "markdown",
   "metadata": {},
   "source": [
    "Vamos a ajustar la arquitectura agregando capas ocultas"
   ]
  },
  {
   "cell_type": "code",
   "execution_count": 7,
   "metadata": {},
   "outputs": [
    {
     "name": "stderr",
     "output_type": "stream",
     "text": [
      "/opt/anaconda3/lib/python3.12/site-packages/keras/src/layers/core/dense.py:87: UserWarning: Do not pass an `input_shape`/`input_dim` argument to a layer. When using Sequential models, prefer using an `Input(shape)` object as the first layer in the model instead.\n",
      "  super().__init__(activity_regularizer=activity_regularizer, **kwargs)\n"
     ]
    },
    {
     "data": {
      "text/html": [
       "<pre style=\"white-space:pre;overflow-x:auto;line-height:normal;font-family:Menlo,'DejaVu Sans Mono',consolas,'Courier New',monospace\"><span style=\"font-weight: bold\">Model: \"sequential_1\"</span>\n",
       "</pre>\n"
      ],
      "text/plain": [
       "\u001b[1mModel: \"sequential_1\"\u001b[0m\n"
      ]
     },
     "metadata": {},
     "output_type": "display_data"
    },
    {
     "data": {
      "text/html": [
       "<pre style=\"white-space:pre;overflow-x:auto;line-height:normal;font-family:Menlo,'DejaVu Sans Mono',consolas,'Courier New',monospace\">┏━━━━━━━━━━━━━━━━━━━━━━━━━━━━━━━━━┳━━━━━━━━━━━━━━━━━━━━━━━━┳━━━━━━━━━━━━━━━┓\n",
       "┃<span style=\"font-weight: bold\"> Layer (type)                    </span>┃<span style=\"font-weight: bold\"> Output Shape           </span>┃<span style=\"font-weight: bold\">       Param # </span>┃\n",
       "┡━━━━━━━━━━━━━━━━━━━━━━━━━━━━━━━━━╇━━━━━━━━━━━━━━━━━━━━━━━━╇━━━━━━━━━━━━━━━┩\n",
       "│ dense_3 (<span style=\"color: #0087ff; text-decoration-color: #0087ff\">Dense</span>)                 │ (<span style=\"color: #00d7ff; text-decoration-color: #00d7ff\">None</span>, <span style=\"color: #00af00; text-decoration-color: #00af00\">64</span>)             │           <span style=\"color: #00af00; text-decoration-color: #00af00\">320</span> │\n",
       "├─────────────────────────────────┼────────────────────────┼───────────────┤\n",
       "│ dense_4 (<span style=\"color: #0087ff; text-decoration-color: #0087ff\">Dense</span>)                 │ (<span style=\"color: #00d7ff; text-decoration-color: #00d7ff\">None</span>, <span style=\"color: #00af00; text-decoration-color: #00af00\">32</span>)             │         <span style=\"color: #00af00; text-decoration-color: #00af00\">2,080</span> │\n",
       "├─────────────────────────────────┼────────────────────────┼───────────────┤\n",
       "│ dense_5 (<span style=\"color: #0087ff; text-decoration-color: #0087ff\">Dense</span>)                 │ (<span style=\"color: #00d7ff; text-decoration-color: #00d7ff\">None</span>, <span style=\"color: #00af00; text-decoration-color: #00af00\">16</span>)             │           <span style=\"color: #00af00; text-decoration-color: #00af00\">528</span> │\n",
       "├─────────────────────────────────┼────────────────────────┼───────────────┤\n",
       "│ dense_6 (<span style=\"color: #0087ff; text-decoration-color: #0087ff\">Dense</span>)                 │ (<span style=\"color: #00d7ff; text-decoration-color: #00d7ff\">None</span>, <span style=\"color: #00af00; text-decoration-color: #00af00\">1</span>)              │            <span style=\"color: #00af00; text-decoration-color: #00af00\">17</span> │\n",
       "└─────────────────────────────────┴────────────────────────┴───────────────┘\n",
       "</pre>\n"
      ],
      "text/plain": [
       "┏━━━━━━━━━━━━━━━━━━━━━━━━━━━━━━━━━┳━━━━━━━━━━━━━━━━━━━━━━━━┳━━━━━━━━━━━━━━━┓\n",
       "┃\u001b[1m \u001b[0m\u001b[1mLayer (type)                   \u001b[0m\u001b[1m \u001b[0m┃\u001b[1m \u001b[0m\u001b[1mOutput Shape          \u001b[0m\u001b[1m \u001b[0m┃\u001b[1m \u001b[0m\u001b[1m      Param #\u001b[0m\u001b[1m \u001b[0m┃\n",
       "┡━━━━━━━━━━━━━━━━━━━━━━━━━━━━━━━━━╇━━━━━━━━━━━━━━━━━━━━━━━━╇━━━━━━━━━━━━━━━┩\n",
       "│ dense_3 (\u001b[38;5;33mDense\u001b[0m)                 │ (\u001b[38;5;45mNone\u001b[0m, \u001b[38;5;34m64\u001b[0m)             │           \u001b[38;5;34m320\u001b[0m │\n",
       "├─────────────────────────────────┼────────────────────────┼───────────────┤\n",
       "│ dense_4 (\u001b[38;5;33mDense\u001b[0m)                 │ (\u001b[38;5;45mNone\u001b[0m, \u001b[38;5;34m32\u001b[0m)             │         \u001b[38;5;34m2,080\u001b[0m │\n",
       "├─────────────────────────────────┼────────────────────────┼───────────────┤\n",
       "│ dense_5 (\u001b[38;5;33mDense\u001b[0m)                 │ (\u001b[38;5;45mNone\u001b[0m, \u001b[38;5;34m16\u001b[0m)             │           \u001b[38;5;34m528\u001b[0m │\n",
       "├─────────────────────────────────┼────────────────────────┼───────────────┤\n",
       "│ dense_6 (\u001b[38;5;33mDense\u001b[0m)                 │ (\u001b[38;5;45mNone\u001b[0m, \u001b[38;5;34m1\u001b[0m)              │            \u001b[38;5;34m17\u001b[0m │\n",
       "└─────────────────────────────────┴────────────────────────┴───────────────┘\n"
      ]
     },
     "metadata": {},
     "output_type": "display_data"
    },
    {
     "data": {
      "text/html": [
       "<pre style=\"white-space:pre;overflow-x:auto;line-height:normal;font-family:Menlo,'DejaVu Sans Mono',consolas,'Courier New',monospace\"><span style=\"font-weight: bold\"> Total params: </span><span style=\"color: #00af00; text-decoration-color: #00af00\">2,945</span> (11.50 KB)\n",
       "</pre>\n"
      ],
      "text/plain": [
       "\u001b[1m Total params: \u001b[0m\u001b[38;5;34m2,945\u001b[0m (11.50 KB)\n"
      ]
     },
     "metadata": {},
     "output_type": "display_data"
    },
    {
     "data": {
      "text/html": [
       "<pre style=\"white-space:pre;overflow-x:auto;line-height:normal;font-family:Menlo,'DejaVu Sans Mono',consolas,'Courier New',monospace\"><span style=\"font-weight: bold\"> Trainable params: </span><span style=\"color: #00af00; text-decoration-color: #00af00\">2,945</span> (11.50 KB)\n",
       "</pre>\n"
      ],
      "text/plain": [
       "\u001b[1m Trainable params: \u001b[0m\u001b[38;5;34m2,945\u001b[0m (11.50 KB)\n"
      ]
     },
     "metadata": {},
     "output_type": "display_data"
    },
    {
     "data": {
      "text/html": [
       "<pre style=\"white-space:pre;overflow-x:auto;line-height:normal;font-family:Menlo,'DejaVu Sans Mono',consolas,'Courier New',monospace\"><span style=\"font-weight: bold\"> Non-trainable params: </span><span style=\"color: #00af00; text-decoration-color: #00af00\">0</span> (0.00 B)\n",
       "</pre>\n"
      ],
      "text/plain": [
       "\u001b[1m Non-trainable params: \u001b[0m\u001b[38;5;34m0\u001b[0m (0.00 B)\n"
      ]
     },
     "metadata": {},
     "output_type": "display_data"
    },
    {
     "name": "stdout",
     "output_type": "stream",
     "text": [
      "Epoch 1/50\n",
      "\u001b[1m17043/17043\u001b[0m \u001b[32m━━━━━━━━━━━━━━━━━━━━\u001b[0m\u001b[37m\u001b[0m \u001b[1m5s\u001b[0m 277us/step - loss: 194009776.0000 - mean_absolute_error: 9375.3506 - val_loss: 187008880.0000 - val_mean_absolute_error: 8705.4443\n",
      "Epoch 2/50\n",
      "\u001b[1m17043/17043\u001b[0m \u001b[32m━━━━━━━━━━━━━━━━━━━━\u001b[0m\u001b[37m\u001b[0m \u001b[1m5s\u001b[0m 294us/step - loss: 175154240.0000 - mean_absolute_error: 8759.9385 - val_loss: 185180544.0000 - val_mean_absolute_error: 8657.6729\n",
      "Epoch 3/50\n",
      "\u001b[1m17043/17043\u001b[0m \u001b[32m━━━━━━━━━━━━━━━━━━━━\u001b[0m\u001b[37m\u001b[0m \u001b[1m5s\u001b[0m 283us/step - loss: 173910944.0000 - mean_absolute_error: 8671.2236 - val_loss: 185587216.0000 - val_mean_absolute_error: 8898.2676\n",
      "Epoch 4/50\n",
      "\u001b[1m17043/17043\u001b[0m \u001b[32m━━━━━━━━━━━━━━━━━━━━\u001b[0m\u001b[37m\u001b[0m \u001b[1m5s\u001b[0m 281us/step - loss: 172248464.0000 - mean_absolute_error: 8630.8340 - val_loss: 182280880.0000 - val_mean_absolute_error: 8757.1895\n",
      "Epoch 5/50\n",
      "\u001b[1m17043/17043\u001b[0m \u001b[32m━━━━━━━━━━━━━━━━━━━━\u001b[0m\u001b[37m\u001b[0m \u001b[1m5s\u001b[0m 281us/step - loss: 172180992.0000 - mean_absolute_error: 8614.4863 - val_loss: 180603216.0000 - val_mean_absolute_error: 8721.1006\n",
      "Epoch 6/50\n",
      "\u001b[1m17043/17043\u001b[0m \u001b[32m━━━━━━━━━━━━━━━━━━━━\u001b[0m\u001b[37m\u001b[0m \u001b[1m5s\u001b[0m 279us/step - loss: 168969920.0000 - mean_absolute_error: 8565.1709 - val_loss: 177809120.0000 - val_mean_absolute_error: 8523.2852\n",
      "Epoch 7/50\n",
      "\u001b[1m17043/17043\u001b[0m \u001b[32m━━━━━━━━━━━━━━━━━━━━\u001b[0m\u001b[37m\u001b[0m \u001b[1m5s\u001b[0m 281us/step - loss: 164680496.0000 - mean_absolute_error: 8477.1104 - val_loss: 173031776.0000 - val_mean_absolute_error: 8276.4893\n",
      "Epoch 8/50\n",
      "\u001b[1m17043/17043\u001b[0m \u001b[32m━━━━━━━━━━━━━━━━━━━━\u001b[0m\u001b[37m\u001b[0m \u001b[1m5s\u001b[0m 281us/step - loss: 161326528.0000 - mean_absolute_error: 8283.6367 - val_loss: 163873104.0000 - val_mean_absolute_error: 7815.9897\n",
      "Epoch 9/50\n",
      "\u001b[1m17043/17043\u001b[0m \u001b[32m━━━━━━━━━━━━━━━━━━━━\u001b[0m\u001b[37m\u001b[0m \u001b[1m5s\u001b[0m 280us/step - loss: 148333536.0000 - mean_absolute_error: 7855.4199 - val_loss: 148175504.0000 - val_mean_absolute_error: 7819.7979\n",
      "Epoch 10/50\n",
      "\u001b[1m17043/17043\u001b[0m \u001b[32m━━━━━━━━━━━━━━━━━━━━\u001b[0m\u001b[37m\u001b[0m \u001b[1m5s\u001b[0m 282us/step - loss: 138071712.0000 - mean_absolute_error: 7353.9692 - val_loss: 146311744.0000 - val_mean_absolute_error: 7017.3213\n",
      "Epoch 11/50\n",
      "\u001b[1m17043/17043\u001b[0m \u001b[32m━━━━━━━━━━━━━━━━━━━━\u001b[0m\u001b[37m\u001b[0m \u001b[1m5s\u001b[0m 282us/step - loss: 129758896.0000 - mean_absolute_error: 7139.1699 - val_loss: 133780176.0000 - val_mean_absolute_error: 7027.6406\n",
      "Epoch 12/50\n",
      "\u001b[1m17043/17043\u001b[0m \u001b[32m━━━━━━━━━━━━━━━━━━━━\u001b[0m\u001b[37m\u001b[0m \u001b[1m5s\u001b[0m 283us/step - loss: 126531808.0000 - mean_absolute_error: 7002.0586 - val_loss: 128774200.0000 - val_mean_absolute_error: 6680.0605\n",
      "Epoch 13/50\n",
      "\u001b[1m17043/17043\u001b[0m \u001b[32m━━━━━━━━━━━━━━━━━━━━\u001b[0m\u001b[37m\u001b[0m \u001b[1m5s\u001b[0m 283us/step - loss: 126849320.0000 - mean_absolute_error: 6908.6982 - val_loss: 131813264.0000 - val_mean_absolute_error: 7029.0430\n",
      "Epoch 14/50\n",
      "\u001b[1m17043/17043\u001b[0m \u001b[32m━━━━━━━━━━━━━━━━━━━━\u001b[0m\u001b[37m\u001b[0m \u001b[1m5s\u001b[0m 281us/step - loss: 125831216.0000 - mean_absolute_error: 6808.0664 - val_loss: 145044000.0000 - val_mean_absolute_error: 8206.7510\n",
      "Epoch 15/50\n",
      "\u001b[1m17043/17043\u001b[0m \u001b[32m━━━━━━━━━━━━━━━━━━━━\u001b[0m\u001b[37m\u001b[0m \u001b[1m5s\u001b[0m 281us/step - loss: 123107760.0000 - mean_absolute_error: 6728.3452 - val_loss: 124093192.0000 - val_mean_absolute_error: 6234.9985\n",
      "Epoch 16/50\n",
      "\u001b[1m17043/17043\u001b[0m \u001b[32m━━━━━━━━━━━━━━━━━━━━\u001b[0m\u001b[37m\u001b[0m \u001b[1m5s\u001b[0m 281us/step - loss: 119576240.0000 - mean_absolute_error: 6680.8467 - val_loss: 125774328.0000 - val_mean_absolute_error: 6350.3457\n",
      "Epoch 17/50\n",
      "\u001b[1m17043/17043\u001b[0m \u001b[32m━━━━━━━━━━━━━━━━━━━━\u001b[0m\u001b[37m\u001b[0m \u001b[1m5s\u001b[0m 283us/step - loss: 119663584.0000 - mean_absolute_error: 6629.1494 - val_loss: 124631928.0000 - val_mean_absolute_error: 6187.3198\n",
      "Epoch 18/50\n",
      "\u001b[1m17043/17043\u001b[0m \u001b[32m━━━━━━━━━━━━━━━━━━━━\u001b[0m\u001b[37m\u001b[0m \u001b[1m5s\u001b[0m 284us/step - loss: 118318008.0000 - mean_absolute_error: 6582.7637 - val_loss: 123530384.0000 - val_mean_absolute_error: 6039.1875\n",
      "Epoch 19/50\n",
      "\u001b[1m17043/17043\u001b[0m \u001b[32m━━━━━━━━━━━━━━━━━━━━\u001b[0m\u001b[37m\u001b[0m \u001b[1m5s\u001b[0m 283us/step - loss: 122194992.0000 - mean_absolute_error: 6604.4507 - val_loss: 126219152.0000 - val_mean_absolute_error: 6495.9956\n",
      "Epoch 20/50\n",
      "\u001b[1m17043/17043\u001b[0m \u001b[32m━━━━━━━━━━━━━━━━━━━━\u001b[0m\u001b[37m\u001b[0m \u001b[1m5s\u001b[0m 286us/step - loss: 118467144.0000 - mean_absolute_error: 6550.5444 - val_loss: 120192120.0000 - val_mean_absolute_error: 6099.5898\n",
      "Epoch 21/50\n",
      "\u001b[1m17043/17043\u001b[0m \u001b[32m━━━━━━━━━━━━━━━━━━━━\u001b[0m\u001b[37m\u001b[0m \u001b[1m5s\u001b[0m 290us/step - loss: 113549784.0000 - mean_absolute_error: 6462.0869 - val_loss: 117983896.0000 - val_mean_absolute_error: 6104.8154\n",
      "Epoch 22/50\n",
      "\u001b[1m17043/17043\u001b[0m \u001b[32m━━━━━━━━━━━━━━━━━━━━\u001b[0m\u001b[37m\u001b[0m \u001b[1m5s\u001b[0m 289us/step - loss: 117169216.0000 - mean_absolute_error: 6470.8799 - val_loss: 139079200.0000 - val_mean_absolute_error: 7968.4067\n",
      "Epoch 23/50\n",
      "\u001b[1m17043/17043\u001b[0m \u001b[32m━━━━━━━━━━━━━━━━━━━━\u001b[0m\u001b[37m\u001b[0m \u001b[1m5s\u001b[0m 284us/step - loss: 116960960.0000 - mean_absolute_error: 6445.0938 - val_loss: 117425184.0000 - val_mean_absolute_error: 6210.7231\n",
      "Epoch 24/50\n",
      "\u001b[1m17043/17043\u001b[0m \u001b[32m━━━━━━━━━━━━━━━━━━━━\u001b[0m\u001b[37m\u001b[0m \u001b[1m5s\u001b[0m 282us/step - loss: 116014312.0000 - mean_absolute_error: 6419.4858 - val_loss: 119372920.0000 - val_mean_absolute_error: 6439.4673\n",
      "Epoch 25/50\n",
      "\u001b[1m17043/17043\u001b[0m \u001b[32m━━━━━━━━━━━━━━━━━━━━\u001b[0m\u001b[37m\u001b[0m \u001b[1m5s\u001b[0m 282us/step - loss: 114113432.0000 - mean_absolute_error: 6391.7788 - val_loss: 119595712.0000 - val_mean_absolute_error: 6398.1846\n",
      "Epoch 26/50\n",
      "\u001b[1m17043/17043\u001b[0m \u001b[32m━━━━━━━━━━━━━━━━━━━━\u001b[0m\u001b[37m\u001b[0m \u001b[1m5s\u001b[0m 282us/step - loss: 111565600.0000 - mean_absolute_error: 6349.1660 - val_loss: 117570712.0000 - val_mean_absolute_error: 6003.3208\n",
      "Epoch 27/50\n",
      "\u001b[1m17043/17043\u001b[0m \u001b[32m━━━━━━━━━━━━━━━━━━━━\u001b[0m\u001b[37m\u001b[0m \u001b[1m5s\u001b[0m 293us/step - loss: 112593296.0000 - mean_absolute_error: 6354.5820 - val_loss: 132511904.0000 - val_mean_absolute_error: 7086.1367\n",
      "Epoch 28/50\n",
      "\u001b[1m17043/17043\u001b[0m \u001b[32m━━━━━━━━━━━━━━━━━━━━\u001b[0m\u001b[37m\u001b[0m \u001b[1m5s\u001b[0m 287us/step - loss: 108857880.0000 - mean_absolute_error: 6312.0537 - val_loss: 113586680.0000 - val_mean_absolute_error: 5993.8853\n",
      "Epoch 29/50\n",
      "\u001b[1m17043/17043\u001b[0m \u001b[32m━━━━━━━━━━━━━━━━━━━━\u001b[0m\u001b[37m\u001b[0m \u001b[1m5s\u001b[0m 289us/step - loss: 114389392.0000 - mean_absolute_error: 6347.7529 - val_loss: 130739536.0000 - val_mean_absolute_error: 7095.2524\n",
      "Epoch 30/50\n",
      "\u001b[1m17043/17043\u001b[0m \u001b[32m━━━━━━━━━━━━━━━━━━━━\u001b[0m\u001b[37m\u001b[0m \u001b[1m5s\u001b[0m 286us/step - loss: 113110144.0000 - mean_absolute_error: 6300.9614 - val_loss: 130276760.0000 - val_mean_absolute_error: 7089.5664\n",
      "Epoch 31/50\n",
      "\u001b[1m17043/17043\u001b[0m \u001b[32m━━━━━━━━━━━━━━━━━━━━\u001b[0m\u001b[37m\u001b[0m \u001b[1m5s\u001b[0m 285us/step - loss: 114131096.0000 - mean_absolute_error: 6303.6782 - val_loss: 121552160.0000 - val_mean_absolute_error: 6530.0186\n",
      "Epoch 32/50\n",
      "\u001b[1m17043/17043\u001b[0m \u001b[32m━━━━━━━━━━━━━━━━━━━━\u001b[0m\u001b[37m\u001b[0m \u001b[1m5s\u001b[0m 285us/step - loss: 118344640.0000 - mean_absolute_error: 6286.8428 - val_loss: 120802616.0000 - val_mean_absolute_error: 6577.2080\n",
      "Epoch 33/50\n",
      "\u001b[1m17043/17043\u001b[0m \u001b[32m━━━━━━━━━━━━━━━━━━━━\u001b[0m\u001b[37m\u001b[0m \u001b[1m5s\u001b[0m 281us/step - loss: 107932824.0000 - mean_absolute_error: 6197.7661 - val_loss: 120654424.0000 - val_mean_absolute_error: 6349.2339\n",
      "Epoch 34/50\n",
      "\u001b[1m17043/17043\u001b[0m \u001b[32m━━━━━━━━━━━━━━━━━━━━\u001b[0m\u001b[37m\u001b[0m \u001b[1m5s\u001b[0m 284us/step - loss: 116862584.0000 - mean_absolute_error: 6240.9180 - val_loss: 123517032.0000 - val_mean_absolute_error: 5909.0156\n",
      "Epoch 35/50\n",
      "\u001b[1m17043/17043\u001b[0m \u001b[32m━━━━━━━━━━━━━━━━━━━━\u001b[0m\u001b[37m\u001b[0m \u001b[1m5s\u001b[0m 282us/step - loss: 113518160.0000 - mean_absolute_error: 6204.2305 - val_loss: 120822600.0000 - val_mean_absolute_error: 5861.3940\n",
      "Epoch 36/50\n",
      "\u001b[1m17043/17043\u001b[0m \u001b[32m━━━━━━━━━━━━━━━━━━━━\u001b[0m\u001b[37m\u001b[0m \u001b[1m5s\u001b[0m 286us/step - loss: 110635528.0000 - mean_absolute_error: 6219.3594 - val_loss: 119836136.0000 - val_mean_absolute_error: 5748.4141\n",
      "Epoch 37/50\n",
      "\u001b[1m17043/17043\u001b[0m \u001b[32m━━━━━━━━━━━━━━━━━━━━\u001b[0m\u001b[37m\u001b[0m \u001b[1m5s\u001b[0m 288us/step - loss: 107793816.0000 - mean_absolute_error: 6176.2300 - val_loss: 119095224.0000 - val_mean_absolute_error: 6174.0117\n",
      "Epoch 38/50\n",
      "\u001b[1m17043/17043\u001b[0m \u001b[32m━━━━━━━━━━━━━━━━━━━━\u001b[0m\u001b[37m\u001b[0m \u001b[1m5s\u001b[0m 283us/step - loss: 111280464.0000 - mean_absolute_error: 6165.1304 - val_loss: 120541224.0000 - val_mean_absolute_error: 5915.4980\n",
      "Epoch 39/50\n",
      "\u001b[1m17043/17043\u001b[0m \u001b[32m━━━━━━━━━━━━━━━━━━━━\u001b[0m\u001b[37m\u001b[0m \u001b[1m5s\u001b[0m 292us/step - loss: 107639080.0000 - mean_absolute_error: 6119.0483 - val_loss: 116743552.0000 - val_mean_absolute_error: 5973.5288\n",
      "Epoch 40/50\n",
      "\u001b[1m17043/17043\u001b[0m \u001b[32m━━━━━━━━━━━━━━━━━━━━\u001b[0m\u001b[37m\u001b[0m \u001b[1m5s\u001b[0m 292us/step - loss: 110932392.0000 - mean_absolute_error: 6161.4619 - val_loss: 120749320.0000 - val_mean_absolute_error: 6188.9917\n",
      "Epoch 41/50\n",
      "\u001b[1m17043/17043\u001b[0m \u001b[32m━━━━━━━━━━━━━━━━━━━━\u001b[0m\u001b[37m\u001b[0m \u001b[1m5s\u001b[0m 290us/step - loss: 109907856.0000 - mean_absolute_error: 6123.4033 - val_loss: 128128376.0000 - val_mean_absolute_error: 7291.8579\n",
      "Epoch 42/50\n",
      "\u001b[1m17043/17043\u001b[0m \u001b[32m━━━━━━━━━━━━━━━━━━━━\u001b[0m\u001b[37m\u001b[0m \u001b[1m5s\u001b[0m 287us/step - loss: 110281224.0000 - mean_absolute_error: 6092.5981 - val_loss: 131546832.0000 - val_mean_absolute_error: 7263.6533\n",
      "Epoch 43/50\n",
      "\u001b[1m17043/17043\u001b[0m \u001b[32m━━━━━━━━━━━━━━━━━━━━\u001b[0m\u001b[37m\u001b[0m \u001b[1m5s\u001b[0m 290us/step - loss: 110165776.0000 - mean_absolute_error: 6103.5508 - val_loss: 113048448.0000 - val_mean_absolute_error: 5854.7725\n",
      "Epoch 44/50\n",
      "\u001b[1m17043/17043\u001b[0m \u001b[32m━━━━━━━━━━━━━━━━━━━━\u001b[0m\u001b[37m\u001b[0m \u001b[1m5s\u001b[0m 299us/step - loss: 109184848.0000 - mean_absolute_error: 6051.1504 - val_loss: 112863280.0000 - val_mean_absolute_error: 5717.6021\n",
      "Epoch 45/50\n",
      "\u001b[1m17043/17043\u001b[0m \u001b[32m━━━━━━━━━━━━━━━━━━━━\u001b[0m\u001b[37m\u001b[0m \u001b[1m5s\u001b[0m 290us/step - loss: 108635648.0000 - mean_absolute_error: 6050.7456 - val_loss: 112809240.0000 - val_mean_absolute_error: 5903.4663\n",
      "Epoch 46/50\n",
      "\u001b[1m17043/17043\u001b[0m \u001b[32m━━━━━━━━━━━━━━━━━━━━\u001b[0m\u001b[37m\u001b[0m \u001b[1m5s\u001b[0m 283us/step - loss: 106496648.0000 - mean_absolute_error: 6005.3779 - val_loss: 111558720.0000 - val_mean_absolute_error: 5933.3843\n",
      "Epoch 47/50\n",
      "\u001b[1m17043/17043\u001b[0m \u001b[32m━━━━━━━━━━━━━━━━━━━━\u001b[0m\u001b[37m\u001b[0m \u001b[1m5s\u001b[0m 283us/step - loss: 106532304.0000 - mean_absolute_error: 6033.6450 - val_loss: 111515088.0000 - val_mean_absolute_error: 5862.9082\n",
      "Epoch 48/50\n",
      "\u001b[1m17043/17043\u001b[0m \u001b[32m━━━━━━━━━━━━━━━━━━━━\u001b[0m\u001b[37m\u001b[0m \u001b[1m5s\u001b[0m 284us/step - loss: 106894304.0000 - mean_absolute_error: 5993.9404 - val_loss: 117950768.0000 - val_mean_absolute_error: 6403.6992\n",
      "Epoch 49/50\n",
      "\u001b[1m17043/17043\u001b[0m \u001b[32m━━━━━━━━━━━━━━━━━━━━\u001b[0m\u001b[37m\u001b[0m \u001b[1m5s\u001b[0m 281us/step - loss: 105957072.0000 - mean_absolute_error: 5999.7324 - val_loss: 114969736.0000 - val_mean_absolute_error: 6012.2866\n",
      "Epoch 50/50\n",
      "\u001b[1m17043/17043\u001b[0m \u001b[32m━━━━━━━━━━━━━━━━━━━━\u001b[0m\u001b[37m\u001b[0m \u001b[1m5s\u001b[0m 283us/step - loss: 107252248.0000 - mean_absolute_error: 6022.4663 - val_loss: 120873256.0000 - val_mean_absolute_error: 6659.5444\n",
      "\u001b[1m5326/5326\u001b[0m \u001b[32m━━━━━━━━━━━━━━━━━━━━\u001b[0m\u001b[37m\u001b[0m \u001b[1m1s\u001b[0m 173us/step - loss: 116435200.0000 - mean_absolute_error: 6646.4380\n",
      "Pérdida (MSE) en el conjunto de prueba: 112967344.0\n",
      "MAE del modelo de Red Neuronal: 6625.09814453125\n",
      "R² del modelo de Red Neuronal: 0.9999963947053697\n"
     ]
    }
   ],
   "source": [
    "from tensorflow.keras.optimizers import Adam\n",
    "\n",
    "model = Sequential([\n",
    "    Dense(64, activation='relu', input_shape=(X_train.shape[1],)),\n",
    "    Dense(32, activation='relu'),\n",
    "    Dense(16, activation='relu'),  \n",
    "    Dense(1) \n",
    "])\n",
    "\n",
    "model.compile(optimizer=Adam(learning_rate=0.001), loss='mean_squared_error', metrics=['mean_absolute_error'])\n",
    "\n",
    "model.summary()\n",
    "\n",
    "history = model.fit(X_train, y_train, validation_split=0.2, epochs=50, batch_size=32, verbose=1)\n",
    "\n",
    "loss, mae = model.evaluate(X_test, y_test, verbose=1)\n",
    "r2 = 1 - (loss / ((y_test - y_test.mean()) ** 2).sum())\n",
    "\n",
    "print(f\"Pérdida (MSE) en el conjunto de prueba: {loss}\")\n",
    "print(f\"MAE del modelo de Red Neuronal: {mae}\")\n",
    "print(f\"R² del modelo de Red Neuronal: {r2}\")"
   ]
  },
  {
   "cell_type": "markdown",
   "metadata": {},
   "source": [
    "Ahora muestran resultados buenos pero de pronto mentirosos, entonces vamos a ver si los datos son representativos y consistentes. Ajustaremos la cantidad de epocas y tamaño del batch"
   ]
  },
  {
   "cell_type": "code",
   "execution_count": 8,
   "metadata": {},
   "outputs": [
    {
     "name": "stdout",
     "output_type": "stream",
     "text": [
      "Epoch 1/30\n",
      "\u001b[1m8522/8522\u001b[0m \u001b[32m━━━━━━━━━━━━━━━━━━━━\u001b[0m\u001b[37m\u001b[0m \u001b[1m2s\u001b[0m 288us/step - loss: 106488176.0000 - mean_absolute_error: 5850.5454 - val_loss: 109440016.0000 - val_mean_absolute_error: 5755.2368\n",
      "Epoch 2/30\n",
      "\u001b[1m8522/8522\u001b[0m \u001b[32m━━━━━━━━━━━━━━━━━━━━\u001b[0m\u001b[37m\u001b[0m \u001b[1m3s\u001b[0m 294us/step - loss: 104402992.0000 - mean_absolute_error: 5825.4956 - val_loss: 111219000.0000 - val_mean_absolute_error: 5889.1699\n",
      "Epoch 3/30\n",
      "\u001b[1m8522/8522\u001b[0m \u001b[32m━━━━━━━━━━━━━━━━━━━━\u001b[0m\u001b[37m\u001b[0m \u001b[1m3s\u001b[0m 301us/step - loss: 99533488.0000 - mean_absolute_error: 5802.8521 - val_loss: 114392224.0000 - val_mean_absolute_error: 6124.6855\n",
      "Epoch 4/30\n",
      "\u001b[1m8522/8522\u001b[0m \u001b[32m━━━━━━━━━━━━━━━━━━━━\u001b[0m\u001b[37m\u001b[0m \u001b[1m2s\u001b[0m 291us/step - loss: 104284184.0000 - mean_absolute_error: 5803.9648 - val_loss: 108080832.0000 - val_mean_absolute_error: 5549.3799\n",
      "Epoch 5/30\n",
      "\u001b[1m8522/8522\u001b[0m \u001b[32m━━━━━━━━━━━━━━━━━━━━\u001b[0m\u001b[37m\u001b[0m \u001b[1m3s\u001b[0m 294us/step - loss: 100335792.0000 - mean_absolute_error: 5791.4966 - val_loss: 107921728.0000 - val_mean_absolute_error: 5546.5083\n",
      "Epoch 6/30\n",
      "\u001b[1m8522/8522\u001b[0m \u001b[32m━━━━━━━━━━━━━━━━━━━━\u001b[0m\u001b[37m\u001b[0m \u001b[1m2s\u001b[0m 291us/step - loss: 101896432.0000 - mean_absolute_error: 5745.1792 - val_loss: 111523784.0000 - val_mean_absolute_error: 6042.4170\n",
      "Epoch 7/30\n",
      "\u001b[1m8522/8522\u001b[0m \u001b[32m━━━━━━━━━━━━━━━━━━━━\u001b[0m\u001b[37m\u001b[0m \u001b[1m2s\u001b[0m 291us/step - loss: 99439520.0000 - mean_absolute_error: 5758.4565 - val_loss: 110234000.0000 - val_mean_absolute_error: 5826.4087\n",
      "Epoch 8/30\n",
      "\u001b[1m8522/8522\u001b[0m \u001b[32m━━━━━━━━━━━━━━━━━━━━\u001b[0m\u001b[37m\u001b[0m \u001b[1m3s\u001b[0m 298us/step - loss: 98930024.0000 - mean_absolute_error: 5767.7329 - val_loss: 106322552.0000 - val_mean_absolute_error: 5585.2354\n",
      "Epoch 9/30\n",
      "\u001b[1m8522/8522\u001b[0m \u001b[32m━━━━━━━━━━━━━━━━━━━━\u001b[0m\u001b[37m\u001b[0m \u001b[1m2s\u001b[0m 291us/step - loss: 96810624.0000 - mean_absolute_error: 5720.2998 - val_loss: 105917624.0000 - val_mean_absolute_error: 5473.5132\n",
      "Epoch 10/30\n",
      "\u001b[1m8522/8522\u001b[0m \u001b[32m━━━━━━━━━━━━━━━━━━━━\u001b[0m\u001b[37m\u001b[0m \u001b[1m3s\u001b[0m 296us/step - loss: 104365688.0000 - mean_absolute_error: 5767.0747 - val_loss: 105835304.0000 - val_mean_absolute_error: 5543.0483\n",
      "Epoch 11/30\n",
      "\u001b[1m8522/8522\u001b[0m \u001b[32m━━━━━━━━━━━━━━━━━━━━\u001b[0m\u001b[37m\u001b[0m \u001b[1m3s\u001b[0m 292us/step - loss: 98844480.0000 - mean_absolute_error: 5688.4131 - val_loss: 105688000.0000 - val_mean_absolute_error: 5419.8564\n",
      "Epoch 12/30\n",
      "\u001b[1m8522/8522\u001b[0m \u001b[32m━━━━━━━━━━━━━━━━━━━━\u001b[0m\u001b[37m\u001b[0m \u001b[1m3s\u001b[0m 295us/step - loss: 98683632.0000 - mean_absolute_error: 5696.3315 - val_loss: 111863016.0000 - val_mean_absolute_error: 5598.4443\n",
      "Epoch 13/30\n",
      "\u001b[1m8522/8522\u001b[0m \u001b[32m━━━━━━━━━━━━━━━━━━━━\u001b[0m\u001b[37m\u001b[0m \u001b[1m2s\u001b[0m 292us/step - loss: 101580832.0000 - mean_absolute_error: 5690.0825 - val_loss: 107069448.0000 - val_mean_absolute_error: 5799.8906\n",
      "Epoch 14/30\n",
      "\u001b[1m8522/8522\u001b[0m \u001b[32m━━━━━━━━━━━━━━━━━━━━\u001b[0m\u001b[37m\u001b[0m \u001b[1m3s\u001b[0m 297us/step - loss: 98613864.0000 - mean_absolute_error: 5711.8179 - val_loss: 106242864.0000 - val_mean_absolute_error: 5612.9844\n",
      "Epoch 15/30\n",
      "\u001b[1m8522/8522\u001b[0m \u001b[32m━━━━━━━━━━━━━━━━━━━━\u001b[0m\u001b[37m\u001b[0m \u001b[1m3s\u001b[0m 294us/step - loss: 99237016.0000 - mean_absolute_error: 5684.7222 - val_loss: 108859488.0000 - val_mean_absolute_error: 5593.5273\n",
      "Epoch 16/30\n",
      "\u001b[1m8522/8522\u001b[0m \u001b[32m━━━━━━━━━━━━━━━━━━━━\u001b[0m\u001b[37m\u001b[0m \u001b[1m3s\u001b[0m 297us/step - loss: 96038080.0000 - mean_absolute_error: 5669.9126 - val_loss: 117187336.0000 - val_mean_absolute_error: 5841.5381\n",
      "Epoch 17/30\n",
      "\u001b[1m8522/8522\u001b[0m \u001b[32m━━━━━━━━━━━━━━━━━━━━\u001b[0m\u001b[37m\u001b[0m \u001b[1m3s\u001b[0m 303us/step - loss: 102710072.0000 - mean_absolute_error: 5695.6777 - val_loss: 110351120.0000 - val_mean_absolute_error: 6347.0713\n",
      "Epoch 18/30\n",
      "\u001b[1m8522/8522\u001b[0m \u001b[32m━━━━━━━━━━━━━━━━━━━━\u001b[0m\u001b[37m\u001b[0m \u001b[1m3s\u001b[0m 296us/step - loss: 100495752.0000 - mean_absolute_error: 5698.2778 - val_loss: 109906096.0000 - val_mean_absolute_error: 6193.7183\n",
      "Epoch 19/30\n",
      "\u001b[1m8522/8522\u001b[0m \u001b[32m━━━━━━━━━━━━━━━━━━━━\u001b[0m\u001b[37m\u001b[0m \u001b[1m3s\u001b[0m 295us/step - loss: 98951792.0000 - mean_absolute_error: 5645.4209 - val_loss: 108571272.0000 - val_mean_absolute_error: 5521.5322\n",
      "Epoch 20/30\n",
      "\u001b[1m8522/8522\u001b[0m \u001b[32m━━━━━━━━━━━━━━━━━━━━\u001b[0m\u001b[37m\u001b[0m \u001b[1m3s\u001b[0m 298us/step - loss: 95010736.0000 - mean_absolute_error: 5625.3960 - val_loss: 108346520.0000 - val_mean_absolute_error: 5652.7856\n",
      "Epoch 21/30\n",
      "\u001b[1m8522/8522\u001b[0m \u001b[32m━━━━━━━━━━━━━━━━━━━━\u001b[0m\u001b[37m\u001b[0m \u001b[1m3s\u001b[0m 293us/step - loss: 96643216.0000 - mean_absolute_error: 5643.1821 - val_loss: 103096880.0000 - val_mean_absolute_error: 5575.8213\n",
      "Epoch 22/30\n",
      "\u001b[1m8522/8522\u001b[0m \u001b[32m━━━━━━━━━━━━━━━━━━━━\u001b[0m\u001b[37m\u001b[0m \u001b[1m3s\u001b[0m 297us/step - loss: 101070024.0000 - mean_absolute_error: 5651.5278 - val_loss: 103612984.0000 - val_mean_absolute_error: 5570.3418\n",
      "Epoch 23/30\n",
      "\u001b[1m8522/8522\u001b[0m \u001b[32m━━━━━━━━━━━━━━━━━━━━\u001b[0m\u001b[37m\u001b[0m \u001b[1m3s\u001b[0m 294us/step - loss: 99789984.0000 - mean_absolute_error: 5656.9233 - val_loss: 108572680.0000 - val_mean_absolute_error: 5360.2959\n",
      "Epoch 24/30\n",
      "\u001b[1m8522/8522\u001b[0m \u001b[32m━━━━━━━━━━━━━━━━━━━━\u001b[0m\u001b[37m\u001b[0m \u001b[1m3s\u001b[0m 294us/step - loss: 100130360.0000 - mean_absolute_error: 5657.7881 - val_loss: 105239952.0000 - val_mean_absolute_error: 5382.6763\n",
      "Epoch 25/30\n",
      "\u001b[1m8522/8522\u001b[0m \u001b[32m━━━━━━━━━━━━━━━━━━━━\u001b[0m\u001b[37m\u001b[0m \u001b[1m3s\u001b[0m 295us/step - loss: 93535824.0000 - mean_absolute_error: 5591.2261 - val_loss: 109780128.0000 - val_mean_absolute_error: 5524.7075\n",
      "Epoch 26/30\n",
      "\u001b[1m8522/8522\u001b[0m \u001b[32m━━━━━━━━━━━━━━━━━━━━\u001b[0m\u001b[37m\u001b[0m \u001b[1m3s\u001b[0m 297us/step - loss: 95863184.0000 - mean_absolute_error: 5603.1724 - val_loss: 106734984.0000 - val_mean_absolute_error: 5663.4819\n",
      "Epoch 27/30\n",
      "\u001b[1m8522/8522\u001b[0m \u001b[32m━━━━━━━━━━━━━━━━━━━━\u001b[0m\u001b[37m\u001b[0m \u001b[1m2s\u001b[0m 291us/step - loss: 98649496.0000 - mean_absolute_error: 5624.3887 - val_loss: 108136984.0000 - val_mean_absolute_error: 5429.3633\n",
      "Epoch 28/30\n",
      "\u001b[1m8522/8522\u001b[0m \u001b[32m━━━━━━━━━━━━━━━━━━━━\u001b[0m\u001b[37m\u001b[0m \u001b[1m3s\u001b[0m 295us/step - loss: 100083000.0000 - mean_absolute_error: 5630.7236 - val_loss: 103333744.0000 - val_mean_absolute_error: 5320.4390\n",
      "Epoch 29/30\n",
      "\u001b[1m8522/8522\u001b[0m \u001b[32m━━━━━━━━━━━━━━━━━━━━\u001b[0m\u001b[37m\u001b[0m \u001b[1m3s\u001b[0m 293us/step - loss: 100917912.0000 - mean_absolute_error: 5649.0391 - val_loss: 107430024.0000 - val_mean_absolute_error: 5563.7017\n",
      "Epoch 30/30\n",
      "\u001b[1m8522/8522\u001b[0m \u001b[32m━━━━━━━━━━━━━━━━━━━━\u001b[0m\u001b[37m\u001b[0m \u001b[1m3s\u001b[0m 297us/step - loss: 99477208.0000 - mean_absolute_error: 5646.0918 - val_loss: 105010136.0000 - val_mean_absolute_error: 5436.5938\n",
      "\u001b[1m5326/5326\u001b[0m \u001b[32m━━━━━━━━━━━━━━━━━━━━\u001b[0m\u001b[37m\u001b[0m \u001b[1m1s\u001b[0m 171us/step - loss: 99552560.0000 - mean_absolute_error: 5421.8330\n",
      "Pérdida (MSE) en el conjunto de prueba: 96473304.0\n",
      "MAE del modelo de Red Neuronal: 5395.1328125\n",
      "R² del modelo de Red Neuronal: 0.9999969211041655\n"
     ]
    }
   ],
   "source": [
    "history = model.fit(X_train, y_train, validation_split=0.2, epochs=30, batch_size=64, verbose=1)\n",
    "\n",
    "loss, mae = model.evaluate(X_test, y_test, verbose=1)\n",
    "r2 = 1 - (loss / ((y_test - y_test.mean()) ** 2).sum())\n",
    "\n",
    "print(f\"Pérdida (MSE) en el conjunto de prueba: {loss}\")\n",
    "print(f\"MAE del modelo de Red Neuronal: {mae}\")\n",
    "print(f\"R² del modelo de Red Neuronal: {r2}\")\n"
   ]
  },
  {
   "cell_type": "markdown",
   "metadata": {},
   "source": [
    "Ahora vamos a cambiar la cantidad de neuronas en las capas ocultas, incrementando las neuronas en las capas ocultas y ajustando la tasa de aprendizaje"
   ]
  },
  {
   "cell_type": "code",
   "execution_count": 9,
   "metadata": {},
   "outputs": [
    {
     "name": "stdout",
     "output_type": "stream",
     "text": [
      "Epoch 1/30\n"
     ]
    },
    {
     "name": "stderr",
     "output_type": "stream",
     "text": [
      "/opt/anaconda3/lib/python3.12/site-packages/keras/src/layers/core/dense.py:87: UserWarning: Do not pass an `input_shape`/`input_dim` argument to a layer. When using Sequential models, prefer using an `Input(shape)` object as the first layer in the model instead.\n",
      "  super().__init__(activity_regularizer=activity_regularizer, **kwargs)\n"
     ]
    },
    {
     "name": "stdout",
     "output_type": "stream",
     "text": [
      "\u001b[1m10652/10652\u001b[0m \u001b[32m━━━━━━━━━━━━━━━━━━━━\u001b[0m\u001b[37m\u001b[0m \u001b[1m5s\u001b[0m 382us/step - loss: 189389312.0000 - mae: 9163.3330 - val_loss: 177810480.0000 - val_mae: 8951.3184\n",
      "Epoch 2/30\n",
      "\u001b[1m10652/10652\u001b[0m \u001b[32m━━━━━━━━━━━━━━━━━━━━\u001b[0m\u001b[37m\u001b[0m \u001b[1m4s\u001b[0m 394us/step - loss: 177476320.0000 - mae: 8679.2451 - val_loss: 173190992.0000 - val_mae: 8878.3574\n",
      "Epoch 3/30\n",
      "\u001b[1m10652/10652\u001b[0m \u001b[32m━━━━━━━━━━━━━━━━━━━━\u001b[0m\u001b[37m\u001b[0m \u001b[1m5s\u001b[0m 443us/step - loss: 172520832.0000 - mae: 8540.0879 - val_loss: 170441088.0000 - val_mae: 8461.8770\n",
      "Epoch 4/30\n",
      "\u001b[1m10652/10652\u001b[0m \u001b[32m━━━━━━━━━━━━━━━━━━━━\u001b[0m\u001b[37m\u001b[0m \u001b[1m4s\u001b[0m 371us/step - loss: 164540064.0000 - mae: 8329.6738 - val_loss: 156313120.0000 - val_mae: 8323.2812\n",
      "Epoch 5/30\n",
      "\u001b[1m10652/10652\u001b[0m \u001b[32m━━━━━━━━━━━━━━━━━━━━\u001b[0m\u001b[37m\u001b[0m \u001b[1m4s\u001b[0m 370us/step - loss: 153758304.0000 - mae: 7858.3223 - val_loss: 148810320.0000 - val_mae: 7852.1626\n",
      "Epoch 6/30\n",
      "\u001b[1m10652/10652\u001b[0m \u001b[32m━━━━━━━━━━━━━━━━━━━━\u001b[0m\u001b[37m\u001b[0m \u001b[1m6s\u001b[0m 579us/step - loss: 146086624.0000 - mae: 7493.5117 - val_loss: 131229432.0000 - val_mae: 6996.9507\n",
      "Epoch 7/30\n",
      "\u001b[1m10652/10652\u001b[0m \u001b[32m━━━━━━━━━━━━━━━━━━━━\u001b[0m\u001b[37m\u001b[0m \u001b[1m5s\u001b[0m 426us/step - loss: 136889680.0000 - mae: 7102.7095 - val_loss: 121384256.0000 - val_mae: 6647.0430\n",
      "Epoch 8/30\n",
      "\u001b[1m10652/10652\u001b[0m \u001b[32m━━━━━━━━━━━━━━━━━━━━\u001b[0m\u001b[37m\u001b[0m \u001b[1m4s\u001b[0m 378us/step - loss: 120292688.0000 - mae: 6624.3252 - val_loss: 118396816.0000 - val_mae: 6320.8447\n",
      "Epoch 9/30\n",
      "\u001b[1m10652/10652\u001b[0m \u001b[32m━━━━━━━━━━━━━━━━━━━━\u001b[0m\u001b[37m\u001b[0m \u001b[1m4s\u001b[0m 391us/step - loss: 111390872.0000 - mae: 6305.1182 - val_loss: 104182328.0000 - val_mae: 6078.4136\n",
      "Epoch 10/30\n",
      "\u001b[1m10652/10652\u001b[0m \u001b[32m━━━━━━━━━━━━━━━━━━━━\u001b[0m\u001b[37m\u001b[0m \u001b[1m4s\u001b[0m 384us/step - loss: 111882104.0000 - mae: 6203.0308 - val_loss: 138137456.0000 - val_mae: 7102.5537\n",
      "Epoch 11/30\n",
      "\u001b[1m10652/10652\u001b[0m \u001b[32m━━━━━━━━━━━━━━━━━━━━\u001b[0m\u001b[37m\u001b[0m \u001b[1m4s\u001b[0m 374us/step - loss: 108951600.0000 - mae: 6060.7783 - val_loss: 114558472.0000 - val_mae: 7249.5781\n",
      "Epoch 12/30\n",
      "\u001b[1m10652/10652\u001b[0m \u001b[32m━━━━━━━━━━━━━━━━━━━━\u001b[0m\u001b[37m\u001b[0m \u001b[1m4s\u001b[0m 371us/step - loss: 107269184.0000 - mae: 5981.3379 - val_loss: 113696760.0000 - val_mae: 7006.1719\n",
      "Epoch 13/30\n",
      "\u001b[1m10652/10652\u001b[0m \u001b[32m━━━━━━━━━━━━━━━━━━━━\u001b[0m\u001b[37m\u001b[0m \u001b[1m4s\u001b[0m 375us/step - loss: 101529272.0000 - mae: 5816.9614 - val_loss: 94254224.0000 - val_mae: 5939.7969\n",
      "Epoch 14/30\n",
      "\u001b[1m10652/10652\u001b[0m \u001b[32m━━━━━━━━━━━━━━━━━━━━\u001b[0m\u001b[37m\u001b[0m \u001b[1m4s\u001b[0m 370us/step - loss: 96197448.0000 - mae: 5699.2104 - val_loss: 91015840.0000 - val_mae: 5767.7271\n",
      "Epoch 15/30\n",
      "\u001b[1m10652/10652\u001b[0m \u001b[32m━━━━━━━━━━━━━━━━━━━━\u001b[0m\u001b[37m\u001b[0m \u001b[1m4s\u001b[0m 376us/step - loss: 96739504.0000 - mae: 5733.4097 - val_loss: 85678744.0000 - val_mae: 5692.2695\n",
      "Epoch 16/30\n",
      "\u001b[1m10652/10652\u001b[0m \u001b[32m━━━━━━━━━━━━━━━━━━━━\u001b[0m\u001b[37m\u001b[0m \u001b[1m4s\u001b[0m 373us/step - loss: 103208344.0000 - mae: 5855.1562 - val_loss: 87077056.0000 - val_mae: 5134.2832\n",
      "Epoch 17/30\n",
      "\u001b[1m10652/10652\u001b[0m \u001b[32m━━━━━━━━━━━━━━━━━━━━\u001b[0m\u001b[37m\u001b[0m \u001b[1m4s\u001b[0m 373us/step - loss: 95103384.0000 - mae: 5537.0435 - val_loss: 132242280.0000 - val_mae: 7787.1953\n",
      "Epoch 18/30\n",
      "\u001b[1m10652/10652\u001b[0m \u001b[32m━━━━━━━━━━━━━━━━━━━━\u001b[0m\u001b[37m\u001b[0m \u001b[1m4s\u001b[0m 381us/step - loss: 94992672.0000 - mae: 5529.7910 - val_loss: 99037856.0000 - val_mae: 5624.3394\n",
      "Epoch 19/30\n",
      "\u001b[1m10652/10652\u001b[0m \u001b[32m━━━━━━━━━━━━━━━━━━━━\u001b[0m\u001b[37m\u001b[0m \u001b[1m6s\u001b[0m 524us/step - loss: 91277184.0000 - mae: 5485.9575 - val_loss: 95508360.0000 - val_mae: 5455.0073\n",
      "Epoch 20/30\n",
      "\u001b[1m10652/10652\u001b[0m \u001b[32m━━━━━━━━━━━━━━━━━━━━\u001b[0m\u001b[37m\u001b[0m \u001b[1m4s\u001b[0m 386us/step - loss: 86215168.0000 - mae: 5352.5815 - val_loss: 84894352.0000 - val_mae: 5820.9082\n",
      "Epoch 21/30\n",
      "\u001b[1m10652/10652\u001b[0m \u001b[32m━━━━━━━━━━━━━━━━━━━━\u001b[0m\u001b[37m\u001b[0m \u001b[1m4s\u001b[0m 384us/step - loss: 89092864.0000 - mae: 5396.0845 - val_loss: 90211776.0000 - val_mae: 5402.5605\n",
      "Epoch 22/30\n",
      "\u001b[1m10652/10652\u001b[0m \u001b[32m━━━━━━━━━━━━━━━━━━━━\u001b[0m\u001b[37m\u001b[0m \u001b[1m4s\u001b[0m 375us/step - loss: 84161632.0000 - mae: 5314.2168 - val_loss: 208946720.0000 - val_mae: 11001.6123\n",
      "Epoch 23/30\n",
      "\u001b[1m10652/10652\u001b[0m \u001b[32m━━━━━━━━━━━━━━━━━━━━\u001b[0m\u001b[37m\u001b[0m \u001b[1m4s\u001b[0m 375us/step - loss: 93398360.0000 - mae: 5533.2427 - val_loss: 103383432.0000 - val_mae: 5691.8066\n",
      "Epoch 24/30\n",
      "\u001b[1m10652/10652\u001b[0m \u001b[32m━━━━━━━━━━━━━━━━━━━━\u001b[0m\u001b[37m\u001b[0m \u001b[1m4s\u001b[0m 372us/step - loss: 92529584.0000 - mae: 5518.9761 - val_loss: 80288288.0000 - val_mae: 5087.6343\n",
      "Epoch 25/30\n",
      "\u001b[1m10652/10652\u001b[0m \u001b[32m━━━━━━━━━━━━━━━━━━━━\u001b[0m\u001b[37m\u001b[0m \u001b[1m4s\u001b[0m 371us/step - loss: 90854904.0000 - mae: 5432.0015 - val_loss: 90848936.0000 - val_mae: 5796.4067\n",
      "Epoch 26/30\n",
      "\u001b[1m10652/10652\u001b[0m \u001b[32m━━━━━━━━━━━━━━━━━━━━\u001b[0m\u001b[37m\u001b[0m \u001b[1m4s\u001b[0m 371us/step - loss: 85611896.0000 - mae: 5320.1128 - val_loss: 82821000.0000 - val_mae: 5260.0596\n",
      "Epoch 27/30\n",
      "\u001b[1m10652/10652\u001b[0m \u001b[32m━━━━━━━━━━━━━━━━━━━━\u001b[0m\u001b[37m\u001b[0m \u001b[1m4s\u001b[0m 370us/step - loss: 86434344.0000 - mae: 5309.3882 - val_loss: 88048976.0000 - val_mae: 5473.5791\n",
      "Epoch 28/30\n",
      "\u001b[1m10652/10652\u001b[0m \u001b[32m━━━━━━━━━━━━━━━━━━━━\u001b[0m\u001b[37m\u001b[0m \u001b[1m4s\u001b[0m 373us/step - loss: 85712432.0000 - mae: 5262.8525 - val_loss: 71221952.0000 - val_mae: 4561.2075\n",
      "Epoch 29/30\n",
      "\u001b[1m10652/10652\u001b[0m \u001b[32m━━━━━━━━━━━━━━━━━━━━\u001b[0m\u001b[37m\u001b[0m \u001b[1m4s\u001b[0m 371us/step - loss: 81162096.0000 - mae: 5170.6797 - val_loss: 77187680.0000 - val_mae: 5373.6597\n",
      "Epoch 30/30\n",
      "\u001b[1m10652/10652\u001b[0m \u001b[32m━━━━━━━━━━━━━━━━━━━━\u001b[0m\u001b[37m\u001b[0m \u001b[1m4s\u001b[0m 373us/step - loss: 82920312.0000 - mae: 5249.6274 - val_loss: 78809360.0000 - val_mae: 5110.3101\n",
      "MSE del modelo de Red Neuronal: 78809512.0\n",
      "MAE del modelo de Red Neuronal: 5110.306640625\n",
      "R² del modelo de Red Neuronal: 0.9999974848349942\n"
     ]
    }
   ],
   "source": [
    "model = Sequential([\n",
    "    Dense(128, activation='relu', input_dim=X_train.shape[1]),\n",
    "    Dense(64, activation='relu'),\n",
    "    Dense(32, activation='relu'),\n",
    "    Dense(16, activation='relu'),\n",
    "    Dense(1, activation='linear')  \n",
    "])\n",
    "\n",
    "optimizer = Adam(learning_rate=0.001)\n",
    "model.compile(optimizer=optimizer, loss='mean_squared_error', metrics=['mae'])\n",
    "\n",
    "history = model.fit(\n",
    "    X_train, y_train,\n",
    "    validation_data=(X_test, y_test),\n",
    "    epochs=30,  \n",
    "    batch_size=64, \n",
    "    verbose=1\n",
    ")\n",
    "\n",
    "mse, mae = model.evaluate(X_test, y_test, verbose=0)\n",
    "r2 = 1 - (mse / ((y_test - y_test.mean())**2).sum())\n",
    "\n",
    "print(\"MSE del modelo de Red Neuronal:\", mse)\n",
    "print(\"MAE del modelo de Red Neuronal:\", mae)\n",
    "print(\"R² del modelo de Red Neuronal:\", r2)\n"
   ]
  },
  {
   "cell_type": "code",
   "execution_count": 10,
   "metadata": {},
   "outputs": [
    {
     "name": "stderr",
     "output_type": "stream",
     "text": [
      "WARNING:absl:You are saving your model as an HDF5 file via `model.save()` or `keras.saving.save_model(model)`. This file format is considered legacy. We recommend using instead the native Keras format, e.g. `model.save('my_model.keras')` or `keras.saving.save_model(model, 'my_model.keras')`. \n"
     ]
    },
    {
     "name": "stdout",
     "output_type": "stream",
     "text": [
      "Modelo guardado exitosamente como 'red_neuronal_model.h5'\n"
     ]
    }
   ],
   "source": [
    "model.save('red_neuronal_model.h5')\n",
    "print(\"Modelo guardado exitosamente como 'red_neuronal_model.h5'\")"
   ]
  },
  {
   "cell_type": "code",
   "execution_count": null,
   "metadata": {},
   "outputs": [],
   "source": []
  }
 ],
 "metadata": {
  "kernelspec": {
   "display_name": "base",
   "language": "python",
   "name": "python3"
  },
  "language_info": {
   "codemirror_mode": {
    "name": "ipython",
    "version": 3
   },
   "file_extension": ".py",
   "mimetype": "text/x-python",
   "name": "python",
   "nbconvert_exporter": "python",
   "pygments_lexer": "ipython3",
   "version": "3.12.4"
  }
 },
 "nbformat": 4,
 "nbformat_minor": 2
}
