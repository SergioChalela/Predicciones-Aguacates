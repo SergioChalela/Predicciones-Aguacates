{
 "cells": [
  {
   "cell_type": "code",
   "execution_count": 1,
   "metadata": {},
   "outputs": [],
   "source": [
    "import pandas as pd"
   ]
  },
  {
   "cell_type": "code",
   "execution_count": 2,
   "metadata": {},
   "outputs": [],
   "source": [
    "daf = pd.read_csv('data/semiprocessed_data.csv')"
   ]
  },
  {
   "cell_type": "markdown",
   "metadata": {},
   "source": [
    "Modelo de Regresion Lineal"
   ]
  },
  {
   "cell_type": "code",
   "execution_count": 16,
   "metadata": {},
   "outputs": [
    {
     "name": "stdout",
     "output_type": "stream",
     "text": [
      "MSE: 145983497.76789597\n",
      "MAE: 7661.274870299753\n",
      "R2: 0.20599193912569602\n"
     ]
    }
   ],
   "source": [
    "from sklearn.linear_model import LinearRegression\n",
    "from sklearn.model_selection import train_test_split\n",
    "from sklearn.metrics import mean_squared_error, r2_score, mean_absolute_error\n",
    "\n",
    "\n",
    "X = daf.drop('Price', axis=1)\n",
    "y = daf['Price']\n",
    "\n",
    "\n",
    "X_train, X_test, y_train, y_test = train_test_split(X, y, test_size=0.2, random_state=42)\n",
    "\n",
    "\n",
    "baseline_model_daf = LinearRegression()\n",
    "baseline_model_daf.fit(X_train, y_train)\n",
    "\n",
    "\n",
    "y_pred_daf = baseline_model_daf.predict(X_test)\n",
    "\n",
    "\n",
    "MSE = mean_squared_error(y_test, y_pred_daf)\n",
    "MAE = mean_absolute_error(y_test, y_pred_daf)\n",
    "R2 = r2_score(y_test, y_pred_daf)\n",
    "\n",
    "print(\"MSE:\", MSE)\n",
    "print(\"MAE:\", MAE)\n",
    "print(\"R2:\",R2)"
   ]
  },
  {
   "cell_type": "markdown",
   "metadata": {},
   "source": [
    "Modelo de Random Forest"
   ]
  },
  {
   "cell_type": "code",
   "execution_count": 17,
   "metadata": {},
   "outputs": [
    {
     "name": "stdout",
     "output_type": "stream",
     "text": [
      "MSE: 145983497.76789597\n",
      "MAE: 7661.274870299753\n",
      "R2: 0.20599193912569602\n"
     ]
    }
   ],
   "source": [
    "from sklearn.ensemble import RandomForestRegressor\n",
    "\n",
    "X = daf.drop('Price', axis=1)\n",
    "y = daf['Price']\n",
    "\n",
    "\n",
    "X_train, X_test, y_train, y_test = train_test_split(X, y, test_size=0.2, random_state=42)\n",
    "\n",
    "\n",
    "rf_model_daf = RandomForestRegressor(n_estimators=10, random_state=42, n_jobs=-1)\n",
    "rf_model_daf.fit(X_train, y_train)\n",
    "\n",
    "\n",
    "y_pred_rf_daf = baseline_model_daf.predict(X_test)\n",
    "\n",
    "\n",
    "MSE = mean_squared_error(y_test, y_pred_rf_daf)\n",
    "MAE = mean_absolute_error(y_test, y_pred_rf_daf)\n",
    "R2 = r2_score(y_test, y_pred_rf_daf)\n",
    "\n",
    "print(\"MSE:\", MSE)\n",
    "print(\"MAE:\", MAE)\n",
    "print(\"R2:\",R2)"
   ]
  },
  {
   "cell_type": "markdown",
   "metadata": {},
   "source": [
    "Modelo de arboles de decisiones"
   ]
  },
  {
   "cell_type": "code",
   "execution_count": 15,
   "metadata": {},
   "outputs": [
    {
     "name": "stdout",
     "output_type": "stream",
     "text": [
      "MSE: 34658418.9380901\n",
      "MAE: 3043.860891107971\n",
      "R2 Score: 0.8114919533045053\n"
     ]
    }
   ],
   "source": [
    "from sklearn.tree import DecisionTreeRegressor\n",
    "from sklearn.metrics import mean_squared_error, mean_absolute_error, r2_score\n",
    "\n",
    "\n",
    "X = daf.drop(['Price'], axis=1)\n",
    "y = daf['Price']\n",
    "\n",
    "X_train, X_test, y_train, y_test = train_test_split(X, y, test_size=0.2, random_state=42)\n",
    "\n",
    "tree_model_daf = DecisionTreeRegressor(random_state=42)\n",
    "tree_model_daf.fit(X_train, y_train)\n",
    "\n",
    "y_pred_tm_daf = tree_model_daf.predict(X_test)\n",
    "\n",
    "mse = mean_squared_error(y_test, y_pred_tm_daf)\n",
    "mae = mean_absolute_error(y_test, y_pred_tm_daf)\n",
    "r2 = r2_score(y_test, y_pred_tm_daf)\n",
    "\n",
    "print(\"MSE:\", mse)\n",
    "print(\"MAE:\", mae)\n",
    "print(\"R2 Score:\", r2)"
   ]
  },
  {
   "cell_type": "code",
   "execution_count": 5,
   "metadata": {},
   "outputs": [],
   "source": [
    "df = pd.read_csv('data/processed_data.csv')"
   ]
  },
  {
   "cell_type": "markdown",
   "metadata": {},
   "source": [
    "Modelo de Regresion Lineal con datos escalados y feature engineering"
   ]
  },
  {
   "cell_type": "code",
   "execution_count": 6,
   "metadata": {},
   "outputs": [
    {
     "name": "stdout",
     "output_type": "stream",
     "text": [
      "MSE: 0.17911793168702606\n",
      "MAE: 0.3401306862298333\n",
      "R2 Score: 0.4233420359567309\n"
     ]
    }
   ],
   "source": [
    "X = df.drop(['Log_Price'], axis=1)\n",
    "y = df['Log_Price']\n",
    "\n",
    "X_train, X_test, y_train, y_test = train_test_split(X, y, test_size=0.2, random_state=42)\n",
    "\n",
    "baseline_model = LinearRegression()\n",
    "baseline_model.fit(X_train, y_train)\n",
    "\n",
    "y_pred = baseline_model.predict(X_test)\n",
    "\n",
    "mse = mean_squared_error(y_test, y_pred)\n",
    "mae = mean_absolute_error(y_test, y_pred)\n",
    "r2 = r2_score(y_test, y_pred)\n",
    "\n",
    "print(\"MSE:\", mse)\n",
    "print(\"MAE:\", mae)\n",
    "print(\"R2 Score:\", r2)"
   ]
  },
  {
   "cell_type": "markdown",
   "metadata": {},
   "source": [
    "Modelo de Arboles de decisiones con datos escalados y feature engineering"
   ]
  },
  {
   "cell_type": "code",
   "execution_count": 18,
   "metadata": {},
   "outputs": [
    {
     "name": "stdout",
     "output_type": "stream",
     "text": [
      "MSE: 0.019446856408241245\n",
      "MAE: 0.07444740631369401\n",
      "R2 Score: 0.9373921721974056\n"
     ]
    }
   ],
   "source": [
    "from sklearn.tree import DecisionTreeRegressor\n",
    "from sklearn.metrics import mean_squared_error, mean_absolute_error, r2_score\n",
    "\n",
    "\n",
    "X = df.drop(['Log_Price'], axis=1)\n",
    "y = df['Log_Price']\n",
    "\n",
    "X_train, X_test, y_train, y_test = train_test_split(X, y, test_size=0.2, random_state=42)\n",
    "\n",
    "tree_model = DecisionTreeRegressor(random_state=42)\n",
    "tree_model.fit(X_train, y_train)\n",
    "\n",
    "y_pred_tm = tree_model.predict(X_test)\n",
    "\n",
    "mse = mean_squared_error(y_test, y_pred_tm)\n",
    "mae = mean_absolute_error(y_test, y_pred_tm)\n",
    "r2 = r2_score(y_test, y_pred_tm)\n",
    "\n",
    "print(\"MSE:\", mse)\n",
    "print(\"MAE:\", mae)\n",
    "print(\"R2 Score:\", r2)\n"
   ]
  },
  {
   "cell_type": "markdown",
   "metadata": {},
   "source": [
    "Modelo Random Forest con datos escalados y feature engineering"
   ]
  },
  {
   "cell_type": "code",
   "execution_count": 10,
   "metadata": {},
   "outputs": [
    {
     "name": "stdout",
     "output_type": "stream",
     "text": [
      "Random Forest MSE: 0.011711321418970572\n",
      "Random Forest MAE: 0.05973546846041707\n",
      "Random Forest R2 Score: 0.9625840115930737\n"
     ]
    }
   ],
   "source": [
    "from sklearn.ensemble import RandomForestRegressor\n",
    "\n",
    "X = df.drop(['Log_Price'], axis=1)\n",
    "y = df['Log_Price']\n",
    "\n",
    "X_train, X_test, y_train, y_test = train_test_split(X, y, test_size=0.2, random_state=120)\n",
    "\n",
    "rf_model = RandomForestRegressor(n_estimators=10, random_state=120)\n",
    "rf_model.fit(X_train, y_train)\n",
    "\n",
    "y_pred_rf = rf_model.predict(X_test)\n",
    "\n",
    "mse_rf = mean_squared_error(y_test, y_pred_rf)\n",
    "mae_rf = mean_absolute_error(y_test, y_pred_rf)\n",
    "r2_rf = r2_score(y_test, y_pred_rf)\n",
    "\n",
    "print(\"Random Forest MSE:\", mse_rf)\n",
    "print(\"Random Forest MAE:\", mae_rf)\n",
    "print(\"Random Forest R2 Score:\", r2_rf)"
   ]
  }
 ],
 "metadata": {
  "kernelspec": {
   "display_name": "Python 3",
   "language": "python",
   "name": "python3"
  },
  "language_info": {
   "codemirror_mode": {
    "name": "ipython",
    "version": 3
   },
   "file_extension": ".py",
   "mimetype": "text/x-python",
   "name": "python",
   "nbconvert_exporter": "python",
   "pygments_lexer": "ipython3",
   "version": "3.13.0"
  }
 },
 "nbformat": 4,
 "nbformat_minor": 2
}
